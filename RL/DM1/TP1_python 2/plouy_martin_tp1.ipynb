{
 "cells": [
  {
   "cell_type": "code",
   "execution_count": 1,
   "metadata": {},
   "outputs": [],
   "source": [
    "import numpy as np\n",
    "%matplotlib inline\n",
    "import matplotlib.pyplot as plt\n",
    "import time\n"
   ]
  },
  {
   "cell_type": "markdown",
   "metadata": {},
   "source": [
    "# 1) Dynamic Programming"
   ]
  },
  {
   "cell_type": "markdown",
   "metadata": {},
   "source": [
    "## Q1. MDP Model"
   ]
  },
  {
   "cell_type": "markdown",
   "metadata": {},
   "source": [
    "For a MDP Model we need to define a Tuple M = (S, A, p, r) with \n",
    "- S the state space. Here S = {s0, s1, s2}\n",
    "- A the action space. Here A = {a0, a1, a2}\n",
    "- p the transition probability. We'll define a 3d matrix such that P[s',s,a] = p(s'|s,a)\n",
    "- r the reward of transition (s, a, s'). We'll define a 2d Matrix R[s, a] = r(s, a)\n",
    "\n",
    "\n",
    "The optimal policy is obvious and is $$ \\pi^{\\ast} $$ such that \n",
    "\n",
    "$$ \n",
    "\\pi^{\\ast}(s0) = a1 \\\\\n",
    "\\pi^{\\ast}(s1) = a1 \\\\\n",
    "\\pi^{\\ast}(s2) = a2 \\\\ \n",
    "$$"
   ]
  },
  {
   "cell_type": "code",
   "execution_count": 2,
   "metadata": {},
   "outputs": [],
   "source": [
    "lenState = 3\n",
    "lenAction = 3\n",
    "\n",
    "# Probability of going to x from s0 after taking action a0\n",
    "Px_s0_a0 = [0.55, 0.45, 0]\n",
    "# Probability of going to x from s0 after taking action a0\n",
    "Px_s0_a1 = [0.3, 0.7, 0]\n",
    "# same pattern ...\n",
    "Px_s0_a2 = [1, 0, 0]\n",
    "# same pattern ...\n",
    "Px_s1_a0 = [1, 0, 0]\n",
    "# same pattern ...\n",
    "Px_s1_a1 = [0, 0.4, 0.6]\n",
    "# same pattern ...\n",
    "Px_s1_a2 = [0, 1, 0]\n",
    "# same pattern ...\n",
    "Px_s2_a0 = [0, 1, 0]\n",
    "# same pattern ...\n",
    "Px_s2_a1 = [0, 0.6, 0.4]\n",
    "# same pattern ...\n",
    "Px_s2_a2 = [0, 0, 1]\n",
    "\n",
    "# we create and fill the matrix P\n",
    "P = np.zeros((lenState, lenState, lenAction))\n",
    "P[:,0,0] = Px_s0_a0 \n",
    "P[:,0,1] = Px_s0_a1 \n",
    "P[:,0,2] = Px_s0_a2\n",
    "P[:,1,0] = Px_s1_a0 \n",
    "P[:,1,1] = Px_s1_a1 \n",
    "P[:,1,2] = Px_s1_a2\n",
    "P[:,2,0] = Px_s2_a0 \n",
    "P[:,2,1] = Px_s2_a1 \n",
    "P[:,2,2] = Px_s2_a2 \n",
    "\n",
    "# We create and fill the matrix R, whose value R[i,j] is the reward of taking action j at state i\n",
    "R = np.zeros((lenState, lenAction))\n",
    "# reward of taking action a0 at state s0\n",
    "R[0,0] = 0\n",
    "# reward of taking action a1 at state s0\n",
    "R[0,1] = 0\n",
    "# same pattern ...\n",
    "R[0,2] = 0.05\n",
    "# same pattern ...\n",
    "R[1,0] = 0\n",
    "# same pattern ...\n",
    "R[1,1] = 0\n",
    "# same pattern ...\n",
    "R[1,2] = 0\n",
    "# same pattern ...\n",
    "R[2,0] = 0\n",
    "# same pattern ...\n",
    "R[2,1] = 1\n",
    "# same pattern ...\n",
    "R[2,2] = 0.9"
   ]
  },
  {
   "cell_type": "markdown",
   "metadata": {},
   "source": [
    "Since we have $ \\pi^{\\ast} $ we can compute $ V^{\\ast} $ in order to plot the difference between $ V^{k} and V^{\\ast}$\n",
    "\n",
    "We need to solve the following system: \n",
    "\n",
    "$$ \n",
    "V^{\\ast}(0) = r(s0, a1) + 0.95 * (0.3 * V^{\\ast}(0) + 0.7 * V^{\\ast}(1))\n",
    "$$\n",
    "$$\n",
    "V^{\\ast}(1) = r(s1, a1) + 0.95 * (0.4 * V^{\\ast}(1) + 0.6 * V^{\\ast}(2)) \n",
    "$$\n",
    "$$\n",
    "V^{\\ast}(2) = r(s2, a2) + 0.95 * (1 * V^{\\ast}(2)) \n",
    "$$\n",
    "which leads to \n",
    "$$ V^{\\ast} = \\begin{pmatrix}\n",
    "    15.39 \\\\ 16.55 \\\\ 18\\\\\n",
    "  \\end{pmatrix} $$"
   ]
  },
  {
   "cell_type": "markdown",
   "metadata": {},
   "source": [
    "## Q2. Implementation of Value Iteration\n",
    "\n",
    "We are going to implement the algorithm descrived in the slides of the lecture 2. \n",
    "\n",
    "Here N = lenState = 3"
   ]
  },
  {
   "cell_type": "code",
   "execution_count": 3,
   "metadata": {},
   "outputs": [],
   "source": [
    "def ValueIteration():\n",
    "        time_start = time.clock()\n",
    "        #run your code\n",
    "        V_ast = np.copy([15.39, 16.55, 18])\n",
    "        V = [1,1,1]\n",
    "        gamma = 0.95\n",
    "        maxItera = 10000\n",
    "        precision = 0.01\n",
    "        errors = []\n",
    "        \n",
    "        for k in range(maxItera):\n",
    "            oldV = np.copy(V)\n",
    "            # compute Vk term by term\n",
    "            tmpV = [0,0,0]\n",
    "            for i in range(len(V)):\n",
    "                for j in range(lenAction):\n",
    "                    tmpV[j] = R[i, j] + gamma * (P[0,i,j]*V[0]+P[1,i,j]*V[1]+P[2,i,j]*V[2])  \n",
    "                V[i]=max(tmpV)\n",
    "                \n",
    "            error = np.max(np.abs(V-V_ast))\n",
    "            errors.append(error)\n",
    "            if np.max(np.abs(V-oldV)) < precision:\n",
    "                break\n",
    "        \n",
    "        \n",
    "        time_elapsed = (time.clock() - time_start)\n",
    "        \n",
    "        return V, errors, time_elapsed\n",
    "            "
   ]
  },
  {
   "cell_type": "code",
   "execution_count": 4,
   "metadata": {},
   "outputs": [
    {
     "name": "stdout",
     "output_type": "stream",
     "text": [
      "88 iterations were needed \n",
      "Optimal value iteration found is : [15.205719035396244, 16.36294890230353, 17.814561805529337]\n",
      "Function took 5.04 ms to run\n"
     ]
    },
    {
     "data": {
      "image/png": "[encoded data removed]",
      "text/plain": [
       "<Figure size 432x288 with 1 Axes>"
      ]
     },
     "metadata": {
      "needs_background": "light"
     },
     "output_type": "display_data"
    }
   ],
   "source": [
    "V, errors, time_elapsed = ValueIteration()\n",
    "print(\"{} iterations were needed \".format(len(errors)))\n",
    "print(\"Optimal value iteration found is : {}\".format(V))\n",
    "print(\"Function took {:.2f} ms to run\".format(time_elapsed * 1000))\n",
    "plt.plot(range(len(errors)),errors)\n",
    "plt.xlabel(\"k\")\n",
    "plt.ylabel(\"||vk - v*||\")\n",
    "plt.title('Error')\n",
    "plt.show()"
   ]
  },
  {
   "cell_type": "markdown",
   "metadata": {},
   "source": [
    "## Q3. Implementation of Policy Iteration\n",
    "\n",
    "Similarly as 2), we are going to implement the algorithm descrived in the slides of the lecture 2. \n"
   ]
  },
  {
   "cell_type": "code",
   "execution_count": 5,
   "metadata": {},
   "outputs": [],
   "source": [
    "def PolicyIteration():\n",
    "        time_start = time.clock()\n",
    "        V_ast = np.copy([15.39, 16.55, 18])\n",
    "        V = [1,1,1]\n",
    "        Pi = [0,0,0]\n",
    "        gamma = 0.95\n",
    "        maxItera = 10\n",
    "        precision = 0.01\n",
    "        errors = []\n",
    "        \n",
    "        for k in range(maxItera):\n",
    "            oldV = np.copy(V)\n",
    "            \n",
    "            # we use the formula slide 82 of the lecture 2\n",
    "            r_pi = [R[i,Pi[i]] for i in range(lenState)]\n",
    "            P_pi = np.array([P[i, :,Pi[i]] for i in range(lenState)])\n",
    "            V = np.dot(np.linalg.inv(np.eye(3)-gamma*P_pi), r_pi)\n",
    "    \n",
    "            for i in range(len(Pi)):\n",
    "                a = [0,0,0]\n",
    "                for j in range(len(a)):\n",
    "                    a[j]= R[i, j] + gamma * (P[0,i,j]*V[0]+P[1,i,j]*V[1]+P[2,i,j]*V[2])\n",
    "                Pi[i] = np.argmax(a)\n",
    "                \n",
    "            if np.max(np.abs(V-oldV)) == 0:\n",
    "                break\n",
    "        \n",
    "        time_elapsed = (time.clock() - time_start)\n",
    "        return Pi, k, time_elapsed\n",
    "            "
   ]
  },
  {
   "cell_type": "code",
   "execution_count": 6,
   "metadata": {},
   "outputs": [
    {
     "name": "stdout",
     "output_type": "stream",
     "text": [
      "3 iterations were needed \n",
      "Optimal Policy found is : [1, 1, 2]\n",
      "Function took 1.81 ms to run\n"
     ]
    }
   ],
   "source": [
    "Pi, numIter, time_elapsed = PolicyIteration()\n",
    "print(\"{} iterations were needed \".format(numIter))\n",
    "print(\"Optimal Policy found is : {}\".format(Pi)) \n",
    "print(\"Function took {:.2f} ms to run\".format(time_elapsed * 1000))"
   ]
  },
  {
   "cell_type": "markdown",
   "metadata": {},
   "source": [
    "The time complexity of the Value iteration is higher than the time complexity of the Policy iteration (see lectures). In the example we see that it is indeed the case as the Value iteration took 5ms to run whereas the policy iteration took less than 1 ms to run.\n",
    "We also note that the number of iteration of loops is much lower for the Policy iteration (3) than for the Value Iteration(88). \n",
    "However the computation at each step is cheaper for the value iteration than for the Policy iteration"
   ]
  },
  {
   "cell_type": "markdown",
   "metadata": {},
   "source": [
    "# 2 Reinforcement Learning"
   ]
  },
  {
   "cell_type": "code",
   "execution_count": 7,
   "metadata": {},
   "outputs": [
    {
     "name": "stdout",
     "output_type": "stream",
     "text": [
      "[[0, 0], [0, 1], [0, 2], [0, 3], [1, 0], [1, 2], [1, 3], [2, 0], [2, 1], [2, 2], [2, 3]]\n",
      "[[ 0  1  2  3]\n",
      " [ 4 -1  5  6]\n",
      " [ 7  8  9 10]]\n",
      "[[0, 1], [0, 2], [0, 1, 2], [0], [1, 3], [0, 1, 3], [0], [0, 3], [0, 2], [0, 2, 3], [2, 3]]\n",
      "s0: ['right' 'down']\n",
      "s1: ['right' 'left']\n",
      "s2: ['right' 'down' 'left']\n",
      "s3: ['right']\n",
      "s4: ['down' 'up']\n",
      "s5: ['right' 'down' 'up']\n",
      "s6: ['right']\n",
      "s7: ['right' 'up']\n",
      "s8: ['right' 'left']\n",
      "s9: ['right' 'left' 'up']\n",
      "s10: ['left' 'up']\n"
     ]
    }
   ],
   "source": [
    "from gridworld import GridWorld1\n",
    "import gridrender as gui\n",
    "import numpy as np\n",
    "import time\n",
    "\n",
    "env = GridWorld1\n",
    "\n",
    "################################################################################\n",
    "# investigate the structure of the environment\n",
    "# - env.n_states: the number of states\n",
    "# - env.state2coord: converts state number to coordinates (row, col)\n",
    "# - env.coord2state: converts coordinates (row, col) into state number\n",
    "# - env.action_names: converts action number [0,3] into a named action\n",
    "# - env.state_actions: for each state stores the action availables\n",
    "#   For example\n",
    "#       print(env.state_actions[4]) -> [1,3]\n",
    "#       print(env.action_names[env.state_actions[4]]) -> ['down' 'up']\n",
    "# - env.gamma: discount factor\n",
    "################################################################################\n",
    "print(env.state2coord)\n",
    "print(env.coord2state)\n",
    "print(env.state_actions)\n",
    "for i, el in enumerate(env.state_actions):\n",
    "        print(\"s{}: {}\".format(i, env.action_names[el]))\n",
    "\n",
    "################################################################################\n",
    "# Policy definition\n",
    "# If you want to represent deterministic action you can just use the number of\n",
    "# the action. Recall that in the terminal states only action 0 (right) is\n",
    "# defined.\n",
    "# In this case, you can use gui.renderpol to visualize the policy\n",
    "################################################################################\n",
    "# pol = [1, 2, 0, 0, 1, 1, 0, 0, 0, 0, 3]\n",
    "# gui.render_policy(env, pol)\n",
    "\n",
    "################################################################################\n",
    "# Try to simulate a trajectory\n",
    "# you can use env.step(s,a, render=True) to visualize the transition\n",
    "################################################################################\n",
    "\n",
    "# env.render = True\n",
    "# state = 0\n",
    "# fps = 1\n",
    "# for i in range(5):\n",
    "#         action = np.random.choice(env.state_actions[state])\n",
    "#         print(state, action)\n",
    "#         nexts, reward, term = env.step(state,action)\n",
    "#         state = nexts\n",
    "#         time.sleep(1./fps)\n",
    "\n",
    "\n",
    "# ################################################################################\n",
    "# # You can also visualize the q-function using render_q\n",
    "# ################################################################################\n",
    "# # first get the maximum number of actions available\n",
    "# max_act = max(map(len, env.state_actions))\n",
    "# q = np.random.rand(env.n_states, max_act)\n",
    "# gui.render_q(env, q)\n",
    "\n",
    "# ################################################################################\n",
    "# # Work to do: Q4\n",
    "# ################################################################################\n",
    "# here the v-function and q-function to be used for question 4\n",
    "v_q4 = [0.87691855, 0.92820033, 0.98817903, 0.00000000, 0.67106071, -0.99447514, 0.00000000, -0.82847001, -0.87691855,\n",
    "        -0.93358351, -0.99447514]\n",
    "\n",
    "\n",
    "# ################################################################################\n",
    "# # Work to do: Q5\n",
    "# ################################################################################\n",
    "v_opt = [0.87691855, 0.92820033, 0.98817903, 0.00000000, 0.82369294, 0.92820033, 0.00000000, 0.77818504, 0.82369294,\n",
    "         0.87691855, 0.82847001]\n"
   ]
  },
  {
   "cell_type": "code",
   "execution_count": 8,
   "metadata": {},
   "outputs": [
    {
     "name": "stdout",
     "output_type": "stream",
     "text": [
      "s0: ['right' 'down']\n",
      "s1: ['right' 'left']\n",
      "s2: ['right' 'down' 'left']\n",
      "s3: ['right']\n",
      "s4: ['down' 'up']\n",
      "s5: ['right' 'down' 'up']\n",
      "s6: ['right']\n",
      "s7: ['right' 'up']\n",
      "s8: ['right' 'left']\n",
      "s9: ['right' 'left' 'up']\n",
      "s10: ['left' 'up']\n"
     ]
    }
   ],
   "source": [
    "# justification of policy :\n",
    "\n",
    "for i, el in enumerate(env.state_actions):\n",
    "        print(\"s{}: {}\".format(i, env.action_names[el]))\n",
    "        \n",
    "# if we want the policy right when available otherwise up then for all states except 4 and 10 we should select the action rigt,\n",
    "# and for state 4 and 10 select the action up\n",
    "\n",
    "selectedPol = [0, 0, 0, 0, 3, 0, 0, 0, 0, 0, 3]\n",
    "# let's verify that we chose the correct policy\n",
    "gui.render_policy(env, selectedPol)"
   ]
  },
  {
   "cell_type": "markdown",
   "metadata": {},
   "source": [
    "## Q4."
   ]
  },
  {
   "cell_type": "markdown",
   "metadata": {},
   "source": [
    "We compute $ \\mu_0 $"
   ]
  },
  {
   "cell_type": "code",
   "execution_count": 9,
   "metadata": {},
   "outputs": [],
   "source": [
    "def getMuFrequencies():\n",
    "    mu = np.zeros(11)\n",
    "    numIter = 20000\n",
    "    for i in range(numIter):\n",
    "        x = env.reset()\n",
    "        mu[x] +=1\n",
    "    mu = mu/numIter\n",
    "    return mu"
   ]
  },
  {
   "cell_type": "code",
   "execution_count": 10,
   "metadata": {},
   "outputs": [
    {
     "data": {
      "text/plain": [
       "array([0.1417 , 0.0921 , 0.08975, 0.0401 , 0.09055, 0.08775, 0.09115,\n",
       "       0.08975, 0.09335, 0.0929 , 0.0909 ])"
      ]
     },
     "execution_count": 10,
     "metadata": {},
     "output_type": "execute_result"
    }
   ],
   "source": [
    "getMuFrequencies()"
   ]
  },
  {
   "cell_type": "code",
   "execution_count": 11,
   "metadata": {},
   "outputs": [],
   "source": [
    "def normalizeV(V): \n",
    "    normalized_V = np.zeros(11)\n",
    "    for i in V:\n",
    "        discountedRewards = V[i]\n",
    "        normalized_V[i] = np.sum(discountedRewards)/len(discountedRewards)\n",
    "    return normalized_V\n",
    "\n",
    "mu_0 = getMuFrequencies()\n",
    "def computeJ(V):\n",
    "    j = 0\n",
    "    for i in range(len(mu_0)):\n",
    "        j += mu_0[i] * V[i]\n",
    "    return j"
   ]
  },
  {
   "cell_type": "code",
   "execution_count": 12,
   "metadata": {},
   "outputs": [],
   "source": [
    "gamma = 0.95\n",
    "# here Rmax is bounded by 1, if we choose delta = 0.2 then \n",
    "T_max = -np.log(0.2)/(1-gamma)\n",
    "\n",
    "def fillVAndComputeErrors(V, nIter, errors): \n",
    "    V_star = [0.87691855, 0.92820033, 0.98817903, 0.00000000, 0.67106071, -0.99447514, 0.00000000, -0.82847001, -0.87691855,\n",
    "        -0.93358351, -0.99447514]\n",
    "    J_star = computeJ(V_star)\n",
    "    for i in range(nIter):\n",
    "        term = False\n",
    "        x_0 = env.reset()\n",
    "        state = x_0  \n",
    "        t = 0\n",
    "        discountedReward = 0\n",
    "        while not term and t < T_max:\n",
    "            action = selectedPol[state]\n",
    "            state, reward, term = env.step(state,action)\n",
    "            discountedReward += (gamma**t)*reward\n",
    "            t += 1\n",
    "\n",
    "        if x_0 not in V:\n",
    "            V[x_0] = []\n",
    "        V[x_0].append(discountedReward)\n",
    "        V_normalized = normalizeV(V)\n",
    "        J_n = computeJ(V_normalized)\n",
    "        errors.append(J_n - J_star)\n",
    "        \n",
    "    return V, errors"
   ]
  },
  {
   "cell_type": "code",
   "execution_count": 13,
   "metadata": {},
   "outputs": [
    {
     "data": {
      "image/png": "[encoded data removed]",
      "text/plain": [
       "<Figure size 432x288 with 1 Axes>"
      ]
     },
     "metadata": {
      "needs_background": "light"
     },
     "output_type": "display_data"
    }
   ],
   "source": [
    "\n",
    "E = 2000\n",
    "\n",
    "V = dict()\n",
    "errors = []\n",
    "V, errors = fillVAndComputeErrors(V, E, errors)\n",
    "while len(V) < 11:\n",
    "    V = fillVAndComputeErrors(V, E, errors)\n",
    "\n",
    "plt.plot(range(0,len(errors)), errors)\n",
    "plt.plot(range(0,len(errors)), [0]*len(errors), color =\"red\")\n",
    "plt.show()\n",
    "    "
   ]
  },
  {
   "cell_type": "markdown",
   "metadata": {},
   "source": [
    "## Q6.\n",
    "\n",
    "What was said in class is that the optimal policy of an MDP isn't affected by the change of the initial distribution as long as there isn't a state $ s_i $ such that $$ \\mu_0(s_i)=0 $$"
   ]
  },
  {
   "cell_type": "code",
   "execution_count": null,
   "metadata": {},
   "outputs": [],
   "source": []
  },
  {
   "cell_type": "code",
   "execution_count": null,
   "metadata": {},
   "outputs": [],
   "source": []
  }
 ],
 "metadata": {
  "kernelspec": {
   "display_name": "Python 3",
   "language": "python",
   "name": "python3"
  },
  "language_info": {
   "codemirror_mode": {
    "name": "ipython",
    "version": 3
   },
   "file_extension": ".py",
   "mimetype": "text/x-python",
   "name": "python",
   "nbconvert_exporter": "python",
   "pygments_lexer": "ipython3",
   "version": "3.6.7"
  }
 },
 "nbformat": 4,
 "nbformat_minor": 2
}
