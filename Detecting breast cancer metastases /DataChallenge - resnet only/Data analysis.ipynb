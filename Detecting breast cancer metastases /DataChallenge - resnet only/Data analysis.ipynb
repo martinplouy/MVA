{
 "cells": [
  {
   "cell_type": "code",
   "execution_count": 51,
   "metadata": {},
   "outputs": [],
   "source": [
    "import pandas as pd\n",
    "import numpy as np\n",
    "import os\n",
    "import re\n",
    "\n",
    "import matplotlib.pyplot as plt\n",
    "\n",
    "from pathlib import Path\n",
    "import seaborn as sns"
   ]
  },
  {
   "cell_type": "code",
   "execution_count": 52,
   "metadata": {},
   "outputs": [],
   "source": [
    "path_root = os.path.abspath(\"\")\n",
    "path = Path(path_root)\n",
    "assert path.is_dir()\n",
    "\n",
    "# -------------------------------------------------------------------------\n",
    "# Load the data\n",
    "data_dir = path\n",
    "assert data_dir.is_dir()\n",
    "\n",
    "train_dir = data_dir / \"train_input\" / \"resnet_features\"\n",
    "test_dir = data_dir / \"test_input\" / \"resnet_features\"\n",
    "\n",
    "train_output_filename = data_dir / \"train_output.csv\"\n",
    "\n",
    "train_output = pd.read_csv(train_output_filename)\n",
    "\n",
    "# Get the filenames for train\n",
    "filenames_train = [train_dir /\n",
    "                   \"{}.npy\".format(idx) for idx in train_output[\"ID\"]]\n",
    "for filename in filenames_train:\n",
    "    assert filename.is_file(), filename\n",
    "\n",
    "# Get the labels\n",
    "labels_train = train_output[\"Target\"].values\n",
    "\n",
    "assert len(filenames_train) == len(labels_train)\n",
    "\n",
    "# Get the numpy filenames for test\n",
    "filenames_test = sorted(test_dir.glob(\"*.npy\"))\n",
    "for filename in filenames_test:\n",
    "    assert filename.is_file(), filename\n",
    "ids_test = [f.stem for f in filenames_test]"
   ]
  },
  {
   "cell_type": "markdown",
   "metadata": {},
   "source": [
    "## Analysis of input graphs data"
   ]
  },
  {
   "cell_type": "code",
   "execution_count": 64,
   "metadata": {},
   "outputs": [
    {
     "data": {
      "text/plain": [
       "112"
      ]
     },
     "execution_count": 64,
     "metadata": {},
     "output_type": "execute_result"
    },
    {
     "data": {
      "image/png": "[encoded data removed]",
      "text/plain": [
       "<Figure size 432x288 with 1 Axes>"
      ]
     },
     "metadata": {
      "needs_background": "light"
     },
     "output_type": "display_data"
    }
   ],
   "source": [
    "ax = sns.countplot(x=\"Target\", data=train_output)\n",
    "np.sum([value == 0 for value in train_output.Target.values])\n",
    "np.sum([value == 1 for value in train_output.Target.values])"
   ]
  },
  {
   "cell_type": "code",
   "execution_count": null,
   "metadata": {},
   "outputs": [],
   "source": []
  },
  {
   "cell_type": "code",
   "execution_count": null,
   "metadata": {},
   "outputs": [],
   "source": []
  },
  {
   "cell_type": "code",
   "execution_count": null,
   "metadata": {},
   "outputs": [],
   "source": []
  },
  {
   "cell_type": "code",
   "execution_count": 61,
   "metadata": {},
   "outputs": [
    {
     "data": {
      "image/png": "[encoded data removed]",
      "text/plain": [
       "<Figure size 432x288 with 1 Axes>"
      ]
     },
     "metadata": {
      "needs_background": "light"
     },
     "output_type": "display_data"
    }
   ],
   "source": [
    "num_features_train = []\n",
    "for f in filenames_train:\n",
    "    patient_features = np.load(f)\n",
    "\n",
    "    # Remove location features (but we could use them?)\n",
    "    patient_features = patient_features[:, 3:]\n",
    "    num_features_train.append(len(patient_features))\n",
    "sorted_num_features_train = sorted(num_features_train)\n",
    "cat_num_features_train = [groupByValues(value) for value in sorted_num_features_train]\n",
    "# ax1 = sns.countplot(cat_num_features_train)\n",
    "train_output[\"NumTiles\"] = [groupByValues(value) for value in num_features_train]\n",
    "\n",
    "ax = sns.countplot(x=\"Target\", hue=\"NumTiles\", data=train_output)"
   ]
  },
  {
   "cell_type": "code",
   "execution_count": 47,
   "metadata": {},
   "outputs": [
    {
     "data": {
      "image/png": "[encoded data removed]",
      "text/plain": [
       "<Figure size 432x288 with 1 Axes>"
      ]
     },
     "metadata": {
      "needs_background": "light"
     },
     "output_type": "display_data"
    }
   ],
   "source": [
    "num_features_test = []\n",
    "for f in filenames_test:\n",
    "    patient_features = np.load(f)\n",
    "\n",
    "    # Remove location features (but we could use them?)\n",
    "    patient_features = patient_features[:, 3:]\n",
    "    num_features_test.append(len(patient_features))\n",
    "num_features_test.sort()\n",
    "cat_num_features_test = [groupByValues(value) for value in num_features_test]\n",
    "ax2 = sns.countplot(cat_num_features_test)"
   ]
  },
  {
   "cell_type": "code",
   "execution_count": 38,
   "metadata": {},
   "outputs": [],
   "source": [
    "def groupByValues(value):\n",
    "        if value ==  1000:\n",
    "            return \"1000\"\n",
    "        elif value > 899:\n",
    "            return \"900-999\"\n",
    "        elif value > 499:\n",
    "            return \"500-899\"\n",
    "        else:\n",
    "            return \"0-499\""
   ]
  },
  {
   "cell_type": "code",
   "execution_count": null,
   "metadata": {},
   "outputs": [],
   "source": []
  }
 ],
 "metadata": {
  "kernelspec": {
   "display_name": "Python 3",
   "language": "python",
   "name": "python3"
  },
  "language_info": {
   "codemirror_mode": {
    "name": "ipython",
    "version": 3
   },
   "file_extension": ".py",
   "mimetype": "text/x-python",
   "name": "python",
   "nbconvert_exporter": "python",
   "pygments_lexer": "ipython3",
   "version": "3.6.7"
  }
 },
 "nbformat": 4,
 "nbformat_minor": 2
}
