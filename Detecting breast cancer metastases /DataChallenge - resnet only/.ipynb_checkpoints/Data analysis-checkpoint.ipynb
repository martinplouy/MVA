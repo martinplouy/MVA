{
 "cells": [
  {
   "cell_type": "code",
   "execution_count": 25,
   "metadata": {},
   "outputs": [],
   "source": [
    "import pandas as pd\n",
    "import numpy as np\n",
    "import os\n",
    "import re\n",
    "\n",
    "import matplotlib.pyplot as plt\n",
    "\n",
    "from pathlib import Path\n",
    "import seaborn as sns"
   ]
  },
  {
   "cell_type": "code",
   "execution_count": 26,
   "metadata": {},
   "outputs": [],
   "source": [
    "path_root = os.path.abspath(\"\")\n",
    "path = Path(path_root)\n",
    "assert path.is_dir()\n",
    "\n",
    "# -------------------------------------------------------------------------\n",
    "# Load the data\n",
    "data_dir = path\n",
    "assert data_dir.is_dir()\n",
    "\n",
    "train_dir = data_dir / \"train_input\" / \"resnet_features\"\n",
    "test_dir = data_dir / \"test_input\" / \"resnet_features\"\n",
    "\n",
    "train_output_filename = data_dir / \"train_output.csv\"\n",
    "\n",
    "train_output = pd.read_csv(train_output_filename)\n",
    "\n",
    "# Get the filenames for train\n",
    "filenames_train = [train_dir /\n",
    "                   \"{}.npy\".format(idx) for idx in train_output[\"ID\"]]\n",
    "for filename in filenames_train:\n",
    "    assert filename.is_file(), filename\n",
    "\n",
    "# Get the labels\n",
    "labels_train = train_output[\"Target\"].values\n",
    "\n",
    "assert len(filenames_train) == len(labels_train)\n",
    "\n",
    "# Get the numpy filenames for test\n",
    "filenames_test = sorted(test_dir.glob(\"*.npy\"))\n",
    "for filename in filenames_test:\n",
    "    assert filename.is_file(), filename\n",
    "ids_test = [f.stem for f in filenames_test]"
   ]
  },
  {
   "cell_type": "markdown",
   "metadata": {},
   "source": [
    "## Analysis of input graphs data"
   ]
  },
  {
   "cell_type": "code",
   "execution_count": 27,
   "metadata": {},
   "outputs": [
    {
     "data": {
      "image/png": "[encoded data removed]",
      "text/plain": [
       "<Figure size 432x288 with 1 Axes>"
      ]
     },
     "metadata": {
      "needs_background": "light"
     },
     "output_type": "display_data"
    }
   ],
   "source": [
    "ax = sns.countplot(x=\"Target\", data=train_output)"
   ]
  },
  {
   "cell_type": "code",
   "execution_count": null,
   "metadata": {},
   "outputs": [],
   "source": []
  },
  {
   "cell_type": "code",
   "execution_count": null,
   "metadata": {},
   "outputs": [],
   "source": []
  },
  {
   "cell_type": "code",
   "execution_count": 29,
   "metadata": {},
   "outputs": [
    {
     "name": "stdout",
     "output_type": "stream",
     "text": [
      "                   ID  Target\n",
      "0              ID_210       0\n",
      "1              ID_222       0\n",
      "2              ID_278       0\n",
      "3              ID_144       0\n",
      "4              ID_374       0\n",
      "5              ID_335       0\n",
      "6              ID_247       0\n",
      "7              ID_397       0\n",
      "8              ID_224       0\n",
      "9              ID_223       0\n",
      "10             ID_151       0\n",
      "11             ID_025       0\n",
      "12             ID_006       0\n",
      "13             ID_212       0\n",
      "14             ID_192       0\n",
      "15             ID_253       0\n",
      "16             ID_124       0\n",
      "17             ID_364       0\n",
      "18             ID_173       0\n",
      "19             ID_107       0\n",
      "20             ID_048       0\n",
      "21             ID_075       0\n",
      "22             ID_154       0\n",
      "23             ID_052       0\n",
      "24             ID_007       0\n",
      "25             ID_248       0\n",
      "26             ID_005       0\n",
      "27             ID_072       0\n",
      "28             ID_061       0\n",
      "29             ID_057       0\n",
      "..                ...     ...\n",
      "249            ID_357       1\n",
      "250            ID_139       1\n",
      "251            ID_352       1\n",
      "252            ID_008       1\n",
      "253            ID_163       1\n",
      "254  ID_129_annotated       1\n",
      "255            ID_339       1\n",
      "256  ID_036_annotated       1\n",
      "257            ID_105       1\n",
      "258            ID_337       1\n",
      "259            ID_179       1\n",
      "260            ID_100       1\n",
      "261            ID_301       1\n",
      "262            ID_291       1\n",
      "263            ID_299       1\n",
      "264            ID_331       1\n",
      "265            ID_239       1\n",
      "266            ID_018       1\n",
      "267            ID_066       1\n",
      "268            ID_112       1\n",
      "269            ID_211       1\n",
      "270  ID_035_annotated       1\n",
      "271            ID_304       1\n",
      "272            ID_244       1\n",
      "273            ID_083       1\n",
      "274            ID_259       1\n",
      "275            ID_162       1\n",
      "276            ID_203       1\n",
      "277            ID_205       1\n",
      "278            ID_353       1\n",
      "\n",
      "[279 rows x 2 columns]\n"
     ]
    }
   ],
   "source": [
    "print(train_output)"
   ]
  },
  {
   "cell_type": "code",
   "execution_count": 35,
   "metadata": {},
   "outputs": [
    {
     "ename": "NameError",
     "evalue": "name 'groupByValues' is not defined",
     "output_type": "error",
     "traceback": [
      "\u001b[0;31m---------------------------------------------------------------------------\u001b[0m",
      "\u001b[0;31mNameError\u001b[0m                                 Traceback (most recent call last)",
      "\u001b[0;32m<ipython-input-35-0a3c613a7fac>\u001b[0m in \u001b[0;36m<module>\u001b[0;34m\u001b[0m\n\u001b[1;32m      6\u001b[0m     \u001b[0mpatient_features\u001b[0m \u001b[0;34m=\u001b[0m \u001b[0mpatient_features\u001b[0m\u001b[0;34m[\u001b[0m\u001b[0;34m:\u001b[0m\u001b[0;34m,\u001b[0m \u001b[0;36m3\u001b[0m\u001b[0;34m:\u001b[0m\u001b[0;34m]\u001b[0m\u001b[0;34m\u001b[0m\u001b[0;34m\u001b[0m\u001b[0m\n\u001b[1;32m      7\u001b[0m     \u001b[0mnum_features_train\u001b[0m\u001b[0;34m.\u001b[0m\u001b[0mappend\u001b[0m\u001b[0;34m(\u001b[0m\u001b[0mlen\u001b[0m\u001b[0;34m(\u001b[0m\u001b[0mpatient_features\u001b[0m\u001b[0;34m)\u001b[0m\u001b[0;34m)\u001b[0m\u001b[0;34m\u001b[0m\u001b[0;34m\u001b[0m\u001b[0m\n\u001b[0;32m----> 8\u001b[0;31m \u001b[0mcat_num_features_train\u001b[0m \u001b[0;34m=\u001b[0m \u001b[0;34m[\u001b[0m\u001b[0mgroupByValues\u001b[0m\u001b[0;34m(\u001b[0m\u001b[0mvalue\u001b[0m\u001b[0;34m)\u001b[0m \u001b[0;32mfor\u001b[0m \u001b[0mvalue\u001b[0m \u001b[0;32min\u001b[0m \u001b[0mnum_features_train\u001b[0m\u001b[0;34m]\u001b[0m\u001b[0;34m\u001b[0m\u001b[0;34m\u001b[0m\u001b[0m\n\u001b[0m\u001b[1;32m      9\u001b[0m \u001b[0max1\u001b[0m \u001b[0;34m=\u001b[0m \u001b[0msns\u001b[0m\u001b[0;34m.\u001b[0m\u001b[0mcountplot\u001b[0m\u001b[0;34m(\u001b[0m\u001b[0mnum_features_train\u001b[0m\u001b[0;34m)\u001b[0m\u001b[0;34m\u001b[0m\u001b[0;34m\u001b[0m\u001b[0m\n",
      "\u001b[0;32m<ipython-input-35-0a3c613a7fac>\u001b[0m in \u001b[0;36m<listcomp>\u001b[0;34m(.0)\u001b[0m\n\u001b[1;32m      6\u001b[0m     \u001b[0mpatient_features\u001b[0m \u001b[0;34m=\u001b[0m \u001b[0mpatient_features\u001b[0m\u001b[0;34m[\u001b[0m\u001b[0;34m:\u001b[0m\u001b[0;34m,\u001b[0m \u001b[0;36m3\u001b[0m\u001b[0;34m:\u001b[0m\u001b[0;34m]\u001b[0m\u001b[0;34m\u001b[0m\u001b[0;34m\u001b[0m\u001b[0m\n\u001b[1;32m      7\u001b[0m     \u001b[0mnum_features_train\u001b[0m\u001b[0;34m.\u001b[0m\u001b[0mappend\u001b[0m\u001b[0;34m(\u001b[0m\u001b[0mlen\u001b[0m\u001b[0;34m(\u001b[0m\u001b[0mpatient_features\u001b[0m\u001b[0;34m)\u001b[0m\u001b[0;34m)\u001b[0m\u001b[0;34m\u001b[0m\u001b[0;34m\u001b[0m\u001b[0m\n\u001b[0;32m----> 8\u001b[0;31m \u001b[0mcat_num_features_train\u001b[0m \u001b[0;34m=\u001b[0m \u001b[0;34m[\u001b[0m\u001b[0mgroupByValues\u001b[0m\u001b[0;34m(\u001b[0m\u001b[0mvalue\u001b[0m\u001b[0;34m)\u001b[0m \u001b[0;32mfor\u001b[0m \u001b[0mvalue\u001b[0m \u001b[0;32min\u001b[0m \u001b[0mnum_features_train\u001b[0m\u001b[0;34m]\u001b[0m\u001b[0;34m\u001b[0m\u001b[0;34m\u001b[0m\u001b[0m\n\u001b[0m\u001b[1;32m      9\u001b[0m \u001b[0max1\u001b[0m \u001b[0;34m=\u001b[0m \u001b[0msns\u001b[0m\u001b[0;34m.\u001b[0m\u001b[0mcountplot\u001b[0m\u001b[0;34m(\u001b[0m\u001b[0mnum_features_train\u001b[0m\u001b[0;34m)\u001b[0m\u001b[0;34m\u001b[0m\u001b[0;34m\u001b[0m\u001b[0m\n",
      "\u001b[0;31mNameError\u001b[0m: name 'groupByValues' is not defined"
     ]
    }
   ],
   "source": [
    "num_features_train = []\n",
    "for f in filenames_train:\n",
    "    patient_features = np.load(f)\n",
    "\n",
    "    # Remove location features (but we could use them?)\n",
    "    patient_features = patient_features[:, 3:]\n",
    "    num_features_train.append(len(patient_features))\n",
    "cat_num_features_train = [groupByValues(value) for value in num_features_train]\n",
    "ax1 = sns.countplot(num_features_train)"
   ]
  },
  {
   "cell_type": "code",
   "execution_count": 34,
   "metadata": {},
   "outputs": [
    {
     "name": "stdout",
     "output_type": "stream",
     "text": [
      "[964, 1000, 1000, 1000, 1000, 1000, 999, 1000, 830, 1000, 985, 1000, 1000, 1000, 1000, 1000, 846, 1000, 746, 542, 1000, 1000, 1000, 1000, 1000, 1000, 1000, 1000, 992, 1000, 1000, 1000, 1000, 378, 1000, 1000, 1000, 1000, 698, 1000, 1000, 1000, 1000, 408, 551, 1000, 1000, 1000, 762, 406, 568, 1000, 1000, 1000, 1000, 924, 1000, 1000, 1000, 1000, 1000, 1000, 1000, 1000, 1000, 1000, 1000, 1000, 1000, 152, 1000, 438, 1000, 1000, 1000, 1000, 996, 1000, 1000, 1000, 757, 897, 1000, 1000, 1000, 1000, 1000, 1000, 1000, 1000, 1000, 1000, 1000, 1000, 474, 1000, 1000, 1000, 693, 1000, 1000, 1000, 999, 1000, 1000, 1000, 1000, 1000, 1000, 1000, 1000, 761, 1000, 999, 628, 71, 793, 474, 1000, 1000]\n"
     ]
    },
    {
     "data": {
      "image/png": "[encoded data removed]",
      "text/plain": [
       "<Figure size 432x288 with 1 Axes>"
      ]
     },
     "metadata": {
      "needs_background": "light"
     },
     "output_type": "display_data"
    }
   ],
   "source": [
    "num_features_test = []\n",
    "for f in filenames_test:\n",
    "    patient_features = np.load(f)\n",
    "\n",
    "    # Remove location features (but we could use them?)\n",
    "    patient_features = patient_features[:, 3:]\n",
    "    num_features_test.append(len(patient_features))\n",
    "print(num_features_test)\n",
    "\n",
    "ax2 = sns.countplot(num_features_test)"
   ]
  },
  {
   "cell_type": "code",
   "execution_count": 36,
   "metadata": {},
   "outputs": [
    {
     "ename": "SyntaxError",
     "evalue": "invalid syntax (<ipython-input-36-a548bdcaf882>, line 2)",
     "output_type": "error",
     "traceback": [
      "\u001b[0;36m  File \u001b[0;32m\"<ipython-input-36-a548bdcaf882>\"\u001b[0;36m, line \u001b[0;32m2\u001b[0m\n\u001b[0;31m    switch (value):\u001b[0m\n\u001b[0m                   ^\u001b[0m\n\u001b[0;31mSyntaxError\u001b[0m\u001b[0;31m:\u001b[0m invalid syntax\n"
     ]
    }
   ],
   "source": [
    "def groupByValues(value):\n",
    "        if value ==  1000:\n",
    "            return \"1000\"\n",
    "        elif value > 899:\n",
    "            return \"900-999\"\n",
    "        elise value > 499:\n",
    "            return \"500-899\"\n",
    "        else:\n",
    "            return \"0-499\""
   ]
  },
  {
   "cell_type": "code",
   "execution_count": null,
   "metadata": {},
   "outputs": [],
   "source": []
  }
 ],
 "metadata": {
  "kernelspec": {
   "display_name": "Python 3",
   "language": "python",
   "name": "python3"
  },
  "language_info": {
   "codemirror_mode": {
    "name": "ipython",
    "version": 3
   },
   "file_extension": ".py",
   "mimetype": "text/x-python",
   "name": "python",
   "nbconvert_exporter": "python",
   "pygments_lexer": "ipython3",
   "version": "3.6.7"
  }
 },
 "nbformat": 4,
 "nbformat_minor": 2
}
