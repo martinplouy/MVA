{
 "cells": [
  {
   "cell_type": "code",
   "execution_count": 3,
   "metadata": {},
   "outputs": [],
   "source": [
    "import pandas as pd\n",
    "import numpy as np\n",
    "import scipy.stats\n",
    "import matplotlib.pyplot as plt\n",
    "from matplotlib.patches import Ellipse\n",
    "import os\n",
    "dir_path = os.getcwd()\n"
   ]
  },
  {
   "cell_type": "code",
   "execution_count": 4,
   "metadata": {},
   "outputs": [],
   "source": [
    "d_types = ['data', 'test']\n",
    "data = dict()\n",
    "for d_type in d_types:\n",
    "        path = dir_path +\"/\"+\"classification_data_HWK2/EMGaussian.\" + d_type \n",
    "        data[d_type] = pd.read_csv(path, sep=' ', header=None).values"
   ]
  },
  {
   "cell_type": "code",
   "execution_count": 14,
   "metadata": {},
   "outputs": [],
   "source": [
    "K = 4"
   ]
  },
  {
   "cell_type": "code",
   "execution_count": 15,
   "metadata": {},
   "outputs": [],
   "source": [
    "a = np.ones((K,K))/K"
   ]
  },
  {
   "cell_type": "code",
   "execution_count": 16,
   "metadata": {},
   "outputs": [],
   "source": [
    "# We use the parameters found in HW2 - Q3 (We use our data)\n",
    "pi = [0.20, 0.24, 0.25, 0.31]\n",
    "centers = [[3.79, -3.64], [ 3.99, -3.64 ], [ -2.03, 4.16 ], [ -3.08, -3.56 ]]\n",
    "\n",
    "sigma_0 = np.matrix([[ 0.87, 0.06 ], [ 0.06, 2.21]])\n",
    "sigma_1 = np.matrix([[ 0.20, 0.22 ], [ 0.22, 10.40]])\n",
    "sigma_2 = np.matrix([[ 2.92, 0.17 ], [ 0.17, 2.77]])\n",
    "sigma_3 = np.matrix([[ 6,14, 5.94 ], [ 5.94, 6.07]])\n",
    "\n",
    "sigmas = [sigma_0, sigma_1, sigma_2, sigma_3]\n",
    "\n",
    "multivar = dict()\n",
    "for k in range(K):\n",
    "    multivar[k] = scipy.stats.multivariate_normal(centers[0], sigmas[0])"
   ]
  },
  {
   "cell_type": "code",
   "execution_count": null,
   "metadata": {},
   "outputs": [],
   "source": [
    "def computeAlpha(z, t):\n",
    "    if t == 0:\n",
    "        return pi[z]\n",
    "    p_yt_zt = multivar[z]."
   ]
  }
 ],
 "metadata": {
  "kernelspec": {
   "display_name": "Python 3",
   "language": "python",
   "name": "python3"
  },
  "language_info": {
   "codemirror_mode": {
    "name": "ipython",
    "version": 3
   },
   "file_extension": ".py",
   "mimetype": "text/x-python",
   "name": "python",
   "nbconvert_exporter": "python",
   "pygments_lexer": "ipython3",
   "version": "3.6.7"
  }
 },
 "nbformat": 4,
 "nbformat_minor": 2
}
