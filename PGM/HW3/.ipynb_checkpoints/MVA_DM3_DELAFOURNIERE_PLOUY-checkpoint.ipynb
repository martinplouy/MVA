{
 "cells": [
  {
   "cell_type": "code",
   "execution_count": 254,
   "metadata": {},
   "outputs": [],
   "source": [
    "import pandas as pd\n",
    "import numpy as np\n",
    "import scipy.stats\n",
    "import matplotlib.pyplot as plt\n",
    "from matplotlib.patches import Ellipse\n",
    "import os\n",
    "dir_path = os.getcwd()\n"
   ]
  },
  {
   "cell_type": "code",
   "execution_count": 255,
   "metadata": {},
   "outputs": [],
   "source": [
    "d_types = ['data', 'test']\n",
    "data = dict()\n",
    "for d_type in d_types:\n",
    "        path = dir_path +\"/\"+\"classification_data_HWK2/EMGaussian.\" + d_type \n",
    "        data[d_type] = pd.read_csv(path, sep=' ', header=None).values"
   ]
  },
  {
   "cell_type": "code",
   "execution_count": 272,
   "metadata": {},
   "outputs": [],
   "source": [
    "K = 4\n",
    "T = len(Y_t_data) - 1"
   ]
  },
  {
   "cell_type": "code",
   "execution_count": null,
   "metadata": {},
   "outputs": [],
   "source": []
  },
  {
   "cell_type": "code",
   "execution_count": 273,
   "metadata": {},
   "outputs": [],
   "source": [
    "# We use the parameters found in HW2 - Q3 (We use our data)\n",
    "pi = [0.20, 0.24, 0.25, 0.31]\n",
    "centers = [[3.79, -3.64], [ 3.99, -3.64 ], [ -2.03, 4.16 ], [ -3.08, -3.56 ]]\n",
    "\n",
    "sigma_0 = np.matrix([[ 0.87, 0.06 ], [ 0.06, 2.21]])\n",
    "sigma_1 = np.matrix([[ 0.20, 0.22 ], [ 0.22, 10.40]])\n",
    "sigma_2 = np.matrix([[ 2.92, 0.17 ], [ 0.17, 2.77]])\n",
    "sigma_3 = np.matrix([[ 6.14, 5.94 ], [ 5.94, 6.07]])\n",
    "\n",
    "sigmas = [sigma_0, sigma_1, sigma_2, sigma_3]\n",
    "\n",
    "multivar = dict()\n",
    "for k in range(K):\n",
    "    m = scipy.stats.multivariate_normal(centers[k], sigmas[k])\n",
    "    multivar[k] =m\n",
    "    \n",
    "# We also need to initiate A as it is not specified what is its value\n",
    "# We follow Mr Chopin's advice to have strong weight on the diagonal\n",
    "A =  1/10 * np.ones((4,4)) + 6/10 * np.identity(4)\n",
    "\n",
    "log_A = np.log(A)\n",
    "\n",
    "Y_t_data = data['data']"
   ]
  },
  {
   "cell_type": "code",
   "execution_count": 274,
   "metadata": {},
   "outputs": [],
   "source": [
    "def computeAlpha(z, Y_t_data, A,  t): \n",
    "    if t == 0:\n",
    "        return pi[z]\n",
    "    p_yt_zt = multivar[z].pdf(Y_t_data[t])\n",
    "    alpha = 0\n",
    "    for i in range(4):\n",
    "        alpha += p_yt_zt * A[z, i] * computeAlpha(i, Y_t_data, A, t-1)\n",
    "        \n",
    "    return alpha"
   ]
  },
  {
   "cell_type": "code",
   "execution_count": 275,
   "metadata": {},
   "outputs": [
    {
     "name": "stdout",
     "output_type": "stream",
     "text": [
      "9.711462643780658e-22\n",
      "-48.38356514218259\n"
     ]
    }
   ],
   "source": [
    "print(computeAlpha(2, Y_t_data, A, 8))\n",
    "print(np.log(computeAlpha(2, Y_t_data, A, 8)))"
   ]
  },
  {
   "cell_type": "code",
   "execution_count": 317,
   "metadata": {},
   "outputs": [],
   "source": [
    "def computeBeta(z, Y_t_data, A,  t): \n",
    "    if t == T:\n",
    "        return 1\n",
    "    beta = 0\n",
    "    for i in range(4):\n",
    "        beta += A[z, i] * multivar[i].pdf(Y_t_data[t]) *  computeBeta(i, Y_t_data, A, t+1)\n",
    "    return beta"
   ]
  },
  {
   "cell_type": "code",
   "execution_count": 318,
   "metadata": {},
   "outputs": [
    {
     "name": "stdout",
     "output_type": "stream",
     "text": [
      "4.810772938040479e-07\n",
      "-14.547237885771235\n"
     ]
    }
   ],
   "source": [
    "print(computeBeta(2, Y_t_data, A, T-3))\n",
    "print(np.log(computeBeta(2, Y_t_data, A, T-3)))"
   ]
  },
  {
   "cell_type": "code",
   "execution_count": 319,
   "metadata": {},
   "outputs": [],
   "source": [
    "# we note that values are very low, we thus need to use the log version to prevent numerical errors\n",
    "log_A = np.log(A)\n",
    "log_pi = np.log(pi)\n",
    "\n",
    "# We will also use a matrix to store the already computed values of logAlpha and logBeta to prevent us from recomputing\n",
    "# the whole recursivity at every step\n"
   ]
  },
  {
   "cell_type": "code",
   "execution_count": 320,
   "metadata": {},
   "outputs": [],
   "source": [
    "def computeLogAlpha(z, Y_t_data, log_A, log_pi, memory_log_alpha, multivar,  t): \n",
    "    if t == 0:\n",
    "        memory_log_alpha[z, t] = log_pi[z]\n",
    "        return log_pi[z]\n",
    "    p_yt_zt = multivar[z].pdf(Y_t_data[t])\n",
    "    log_alpha = 0\n",
    "    log_inside_sum = [0,0,0,0]\n",
    "    for i in range(4):\n",
    "        log_alpha_i_tminus1 = 0 \n",
    "        if memory_log_alpha[i, t-1] == 0:\n",
    "            log_alpha_i_tminus1 = computeLogAlpha(i, Y_t_data, log_A, log_pi, memory_log_alpha,multivar,  t-1)\n",
    "        else:\n",
    "            log_alpha_i_tminus1 = memory_log_alpha[i, t-1]\n",
    "        log_inside_sum[i] = log_alpha_i_tminus1 + log_A[z, i]\n",
    "        \n",
    "    max_log = np.max(log_inside_sum)\n",
    "    \n",
    "    log_alpha += np.log(p_yt_zt) + max_log + np.log(np.sum(np.exp(log_inside_sum - max_log)))\n",
    "    \n",
    "    memory_log_alpha[z, t] = log_alpha  \n",
    "    return log_alpha"
   ]
  },
  {
   "cell_type": "code",
   "execution_count": 321,
   "metadata": {},
   "outputs": [
    {
     "data": {
      "text/plain": [
       "-2624.8874882902496"
      ]
     },
     "execution_count": 321,
     "metadata": {},
     "output_type": "execute_result"
    }
   ],
   "source": [
    "memory_log_alpha = np.zeros((4, T + 1))\n",
    "computeLogAlpha(2, Y_t_data, log_A, log_pi, memory_log_alpha,multivar,  T)"
   ]
  },
  {
   "cell_type": "code",
   "execution_count": 324,
   "metadata": {},
   "outputs": [],
   "source": [
    "def computeLogBeta(z, Y_t_data, log_A, memory_log_beta, multivar,  t): \n",
    "    if t == T:  \n",
    "        memory_log_beta[z, t] = 0\n",
    "        return 0\n",
    "    log_inside_sum = [0,0,0,0]\n",
    "    for i in range(4):\n",
    "        log_beta_i_tplus1 = 0 \n",
    "        if memory_log_beta[i, t+1] == 0:\n",
    "            log_beta_i_tplus1 = computeLogBeta(i, Y_t_data, log_A, memory_log_beta, multivar, t+1)\n",
    "        else:\n",
    "            log_beta_i_tplus1 = memory_log_beta[i, t+1]\n",
    "        log_inside_sum[i] = log_A[z, i] + np.log(multivar[i].pdf(Y_t_data[t])) +  log_beta_i_tplus1\n",
    "    \n",
    "    max_log = np.max(log_inside_sum)\n",
    "    log_beta = max_log + np.log(np.sum(np.exp(log_inside_sum - max_log)))  \n",
    "    memory_log_beta[z, t] = log_beta  \n",
    "    return log_beta"
   ]
  },
  {
   "cell_type": "code",
   "execution_count": 326,
   "metadata": {},
   "outputs": [
    {
     "name": "stdout",
     "output_type": "stream",
     "text": [
      "-14.547237885771237\n"
     ]
    }
   ],
   "source": [
    "memory_log_beta = np.zeros((4, T + 1))\n",
    "print(computeLogBeta(2, Y_t_data, log_A, memory_log_beta, multivar, T-3))"
   ]
  },
  {
   "cell_type": "markdown",
   "metadata": {},
   "source": [
    "## 3. EM Algorithm\n",
    "\n",
    "We will use the formulas found computed on the pdf file \n",
    "We will also initialize $\\Pi_0$, $\\mu_i$ and $\\Sigma_i$ with the values found in the previous homework\n",
    "For A, we will follow Mr Chopin's advice and we'll initiate our matrix with strong diagonal weights"
   ]
  },
  {
   "cell_type": "code",
   "execution_count": 412,
   "metadata": {},
   "outputs": [],
   "source": [
    "def computeSmoothing(memory_log_alpha, memory_log_beta):\n",
    "    p_zt_i = np.zeros((4, T+1))\n",
    "    for t in range(T+1):\n",
    "        memory_log_alpha_t = memory_log_alpha[:, t]\n",
    "        memory_log_beta_t = memory_log_alpha[:, t]\n",
    "        sum_memory_log_t = memory_log_alpha_t + memory_log_beta_t\n",
    "        max_sum_log = np.min(-sum_memory_log_t)\n",
    "        augmented_exp_sum_memory_log_t = np.exp(sum_memory_log_t + max_sum_log)\n",
    "        for i in range(4):\n",
    "            p_zt_i[i, t] = augmented_exp_sum_memory_log_t[i] / np.sum(augmented_exp_sum_memory_log_t)\n",
    "            \n",
    "    return p_zt_i\n",
    "\n",
    "def computePijt(memory_log_alpha, memory_log_beta, log_A, multivar, Y_t_data):\n",
    "    pijt = np.zeros((4,4, T+1))\n",
    "\n",
    "    for t in range(T):\n",
    "        sum_memory_log_t = memory_log_alpha[:, t] + memory_log_beta[:, t]\n",
    "\n",
    "        max_sum_memory_log_t = np.max(sum_memory_log_t)\n",
    "        log_denominator = max_sum_memory_log_t + np.log(np.sum(np.exp(sum_memory_log_t - max_sum_memory_log_t)))\n",
    "\n",
    "        tot = 0\n",
    "        \n",
    "        for i in range(K):\n",
    "            for j in range(K):\n",
    "                log_numerator = memory_log_alpha[:, t][i] + memory_log_beta[:, t+1][j] + log_A[i,j] + np.log(multivar[j].pdf(Y_t_data[t]))\n",
    "                value = np.exp(log_numerator - log_denominator)\n",
    "                pijt[i, j, t] = value\n",
    "                tot+=value\n",
    "    return pijt"
   ]
  },
  {
   "cell_type": "code",
   "execution_count": 410,
   "metadata": {},
   "outputs": [],
   "source": [
    "def EM():\n",
    "    Y_t_data = data['data']\n",
    "    \n",
    "    # init\n",
    "    pi = [0.20, 0.24, 0.25, 0.31]\n",
    "    centers = [[3.79, -3.64], [ 3.99, -3.64 ], [ -2.03, 4.16 ], [ -3.08, -3.56 ]]\n",
    "\n",
    "    sigma_0 = np.matrix([[ 0.87, 0.06 ], [ 0.06, 2.21]])\n",
    "    sigma_1 = np.matrix([[ 0.20, 0.22 ], [ 0.22, 10.40]])\n",
    "    sigma_2 = np.matrix([[ 2.92, 0.17 ], [ 0.17, 2.77]])\n",
    "    sigma_3 = np.matrix([[ 6.14, 5.94 ], [ 5.94, 6.07]])\n",
    "\n",
    "    sigmas = [sigma_0, sigma_1, sigma_2, sigma_3]\n",
    "    \n",
    "    multivar = dict()\n",
    "    for k in range(K):\n",
    "        m = scipy.stats.multivariate_normal(centers[k], sigmas[k])\n",
    "        multivar[k] = m\n",
    "    \n",
    "    A =  1/10 * np.ones((4,4)) + 6/10 * np.identity(4)\n",
    "    \n",
    "    \n",
    "    p_z0_i = np.zeros((4,1))\n",
    "    p_zt_i = np.zeros((4, T+1))\n",
    "    p_zt1_j_zt_i = np.zeros((T+1, T+1))\n",
    "    \n",
    "    for j in range(10):\n",
    "        # E step \n",
    "        \n",
    "        # we use this memory to avoid unnecessary recomputation\n",
    "        memory_log_alpha = np.zeros((4, T + 1))\n",
    "        memory_log_beta = np.zeros((4, T + 1))\n",
    "        log_A = np.log(A)\n",
    "        log_pi = np.log(pi)\n",
    "        for i in range(4):\n",
    "            # we fill memory_log_alpha and memory_log_beta\n",
    "            _ = computeLogAlpha(i, Y_t_data, log_A, log_pi, memory_log_alpha,multivar, T)\n",
    "            _ = computeLogBeta(i, Y_t_data, log_A, memory_log_beta,multivar, 0)\n",
    "        p_zt = computeSmoothing(memory_log_alpha, memory_log_beta)\n",
    "        pijt = computePijt(memory_log_alpha, memory_log_beta, log_A, multivar, Y_t_data) # todo verify values of pijt\n",
    "        \n",
    "        # M step\n",
    "        \n",
    "        pi = p_zt[:, 0]\n",
    "        for i in range(4):\n",
    "            for j in range(4):\n",
    "                A[i,j] = np.sum(pijt[i,j,:])/np.sum(p_zt[i, :])\n",
    "        \n",
    "        for i in range(4):\n",
    "            tmp_center_i = [0,0]\n",
    "            for t in range(T+1):\n",
    "                tmp_center_i += p_zt[i, t] * Y_t_data[t]\n",
    "            centers[i] = tmp_center_i / np.sum(p_zt[i, :])\n",
    "        for i in range(4):  \n",
    "            tmp_sigma_i = [[0,0],[0,0]]\n",
    "            for t in range(T+1):\n",
    "                tmp_mat = np.matrix(Y_t_data[t] - centers[i])\n",
    "                tmp_sigma_i += p_zt[i, t] * np.dot( np.transpose(tmp_mat),tmp_mat)\n",
    "            sigmas[i] = tmp_sigma_i / np.sum(p_zt[i, :])\n",
    "    \n",
    "    \n",
    "    return pi, A, centers, sigmas\n",
    "\n",
    "        \n",
    "        "
   ]
  },
  {
   "cell_type": "code",
   "execution_count": 411,
   "metadata": {},
   "outputs": [
    {
     "name": "stdout",
     "output_type": "stream",
     "text": [
      "tot: 1.0000000000000715\n",
      "tot: 1.0000000000004399\n",
      "tot: 1.0000000000001394\n",
      "tot: 1.0000000000002889\n",
      "tot: 1.0000000000004108\n",
      "tot: 1.0000000000001197\n",
      "tot: 1.0000000000002467\n",
      "tot: 1.0000000000000764\n",
      "tot: 1.000000000000509\n",
      "tot: 1.0000000000004428\n"
     ]
    },
    {
     "data": {
      "text/plain": [
       "(array([1.25991450e-195, 1.52032706e-114, 2.16867460e-096, 1.00000000e+000]),\n",
       " array([[8.83038298e-01, 7.90752830e-02, 4.97884117e-05, 4.62654480e-22],\n",
       "        [7.50799360e-02, 9.99302279e-01, 9.29261210e-03, 1.96977980e-06],\n",
       "        [1.89280981e-34, 1.24025654e-07, 9.78859424e-01, 1.94105587e-13],\n",
       "        [1.51899429e-37, 8.34107864e-03, 1.60758283e-02, 9.62416317e-01]]),\n",
       " [array([ 3.64817591, -3.79175116]),\n",
       "  array([ 4.01998475, -0.23525988]),\n",
       "  array([-0.14273694,  4.88833015]),\n",
       "  array([-2.57024544, -2.98918433])],\n",
       " [matrix([[ 1.07591866, -0.04164206],\n",
       "          [-0.04164206,  2.3185532 ]]), matrix([[ 0.28547185, -0.03245054],\n",
       "          [-0.03245054, 12.17397923]]), matrix([[9.94301637, 3.11731614],\n",
       "          [3.11731614, 4.30859761]]), matrix([[8.91465714, 8.9443843 ],\n",
       "          [8.9443843 , 9.46801732]])])"
      ]
     },
     "execution_count": 411,
     "metadata": {},
     "output_type": "execute_result"
    }
   ],
   "source": [
    "EM()"
   ]
  },
  {
   "cell_type": "code",
   "execution_count": 366,
   "metadata": {},
   "outputs": [
    {
     "name": "stdout",
     "output_type": "stream",
     "text": [
      "0\n",
      "1\n",
      "2\n",
      "3\n"
     ]
    }
   ],
   "source": [
    "for k in range(4):\n",
    "    print(k)"
   ]
  },
  {
   "cell_type": "code",
   "execution_count": null,
   "metadata": {},
   "outputs": [],
   "source": []
  },
  {
   "cell_type": "code",
   "execution_count": null,
   "metadata": {},
   "outputs": [],
   "source": []
  },
  {
   "cell_type": "code",
   "execution_count": null,
   "metadata": {},
   "outputs": [],
   "source": []
  },
  {
   "cell_type": "code",
   "execution_count": null,
   "metadata": {},
   "outputs": [],
   "source": []
  },
  {
   "cell_type": "code",
   "execution_count": null,
   "metadata": {},
   "outputs": [],
   "source": []
  },
  {
   "cell_type": "code",
   "execution_count": null,
   "metadata": {},
   "outputs": [],
   "source": []
  },
  {
   "cell_type": "code",
   "execution_count": null,
   "metadata": {},
   "outputs": [],
   "source": []
  },
  {
   "cell_type": "code",
   "execution_count": null,
   "metadata": {},
   "outputs": [],
   "source": [
    "# from where you can work"
   ]
  }
 ],
 "metadata": {
  "kernelspec": {
   "display_name": "Python 3",
   "language": "python",
   "name": "python3"
  },
  "language_info": {
   "codemirror_mode": {
    "name": "ipython",
    "version": 3
   },
   "file_extension": ".py",
   "mimetype": "text/x-python",
   "name": "python",
   "nbconvert_exporter": "python",
   "pygments_lexer": "ipython3",
   "version": "3.6.7"
  }
 },
 "nbformat": 4,
 "nbformat_minor": 2
}
