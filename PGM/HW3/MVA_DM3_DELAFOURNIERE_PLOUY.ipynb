{
 "cells": [
  {
   "cell_type": "code",
   "execution_count": 92,
   "metadata": {},
   "outputs": [],
   "source": [
    "import pandas as pd\n",
    "import numpy as np\n",
    "import scipy.stats\n",
    "import matplotlib.pyplot as plt\n",
    "from matplotlib.patches import Ellipse\n",
    "import os\n",
    "dir_path = os.getcwd()\n"
   ]
  },
  {
   "cell_type": "code",
   "execution_count": 93,
   "metadata": {},
   "outputs": [],
   "source": [
    "d_types = ['data', 'test']\n",
    "data = dict()\n",
    "for d_type in d_types:\n",
    "        path = dir_path +\"/\"+\"classification_data_HWK2/EMGaussian.\" + d_type \n",
    "        data[d_type] = pd.read_csv(path, sep=' ', header=None).values"
   ]
  },
  {
   "cell_type": "code",
   "execution_count": 94,
   "metadata": {},
   "outputs": [],
   "source": [
    "K = 4"
   ]
  },
  {
   "cell_type": "code",
   "execution_count": 95,
   "metadata": {},
   "outputs": [],
   "source": [
    "a = np.ones((K,K))/K"
   ]
  },
  {
   "cell_type": "code",
   "execution_count": 96,
   "metadata": {},
   "outputs": [],
   "source": [
    "# We use the parameters found in HW2 - Q3 (We use our data)\n",
    "pi = [0.20, 0.24, 0.25, 0.31]\n",
    "centers = [[3.79, -3.64], [ 3.99, -3.64 ], [ -2.03, 4.16 ], [ -3.08, -3.56 ]]\n",
    "\n",
    "sigma_0 = np.matrix([[ 0.87, 0.06 ], [ 0.06, 2.21]])\n",
    "sigma_1 = np.matrix([[ 0.20, 0.22 ], [ 0.22, 10.40]])\n",
    "sigma_2 = np.matrix([[ 2.92, 0.17 ], [ 0.17, 2.77]])\n",
    "sigma_3 = np.matrix([[ 6.14, 5.94 ], [ 5.94, 6.07]])\n",
    "\n",
    "sigmas = [sigma_0, sigma_1, sigma_2, sigma_3]\n",
    "\n",
    "multivar = dict()\n",
    "for k in range(K):\n",
    "    m = scipy.stats.multivariate_normal(centers[k], sigmas[k])\n",
    "    multivar[k] =m\n",
    "    \n",
    "# We also need to initiate A as it is not specified what is its value\n",
    "# We follow Mr Chopin's advice to have strong weight on the diagonal\n",
    "A =  1/10 * np.ones((4,4)) + 6/10 * np.identity(4)\n",
    "\n",
    "Y_t_data = data['data']\n",
    "T = len(Y_t_data)-1"
   ]
  },
  {
   "cell_type": "code",
   "execution_count": 97,
   "metadata": {},
   "outputs": [],
   "source": [
    "def computeAlpha(z, Y_t_data, A,  t): \n",
    "    if t == 0:\n",
    "        return pi[z]\n",
    "    p_yt_zt = multivar[z].pdf(Y_t_data[t])\n",
    "    alpha = 0\n",
    "    for i in range(4):\n",
    "        alpha += p_yt_zt * A[z, i] * computeAlpha(i, Y_t_data, A, t-1)\n",
    "        \n",
    "    return alpha"
   ]
  },
  {
   "cell_type": "code",
   "execution_count": 98,
   "metadata": {},
   "outputs": [
    {
     "data": {
      "text/plain": [
       "9.711462643780658e-22"
      ]
     },
     "execution_count": 98,
     "metadata": {},
     "output_type": "execute_result"
    }
   ],
   "source": [
    "computeAlpha(2, Y_t_data, A, 8)"
   ]
  },
  {
   "cell_type": "code",
   "execution_count": 99,
   "metadata": {},
   "outputs": [],
   "source": [
    "def computeBeta(z, Y_t_data, A,  t): \n",
    "    if t == len(Y_t_data):\n",
    "        return 1\n",
    "    beta = 0\n",
    "    for i in range(4):\n",
    "        beta += A[z, i] * multivar[i].pdf(Y_t_data[t]) *  computeBeta(i, Y_t_data, A, t+1)\n",
    "        \n",
    "    return beta"
   ]
  },
  {
   "cell_type": "code",
   "execution_count": 100,
   "metadata": {},
   "outputs": [
    {
     "data": {
      "text/plain": [
       "2.7999202097087733e-08"
      ]
     },
     "execution_count": 100,
     "metadata": {},
     "output_type": "execute_result"
    }
   ],
   "source": [
    "computeBeta(2, Y_t_data, A, T-3)"
   ]
  },
  {
   "cell_type": "code",
   "execution_count": 101,
   "metadata": {},
   "outputs": [],
   "source": [
    "# we note that values are very low, we thus need to use the log version to prevent numerical errors\n",
    "log_A = np.log(A)\n",
    "log_pi = np.log(pi)\n",
    "\n",
    "# We will also use a matrix to store the already computed values of logAlpha and logBeta to prevent us from recomputing\n",
    "# the whole recursivity at every step\n"
   ]
  },
  {
   "cell_type": "code",
   "execution_count": 108,
   "metadata": {},
   "outputs": [],
   "source": [
    "def computeLogAlpha(z, Y_t_data, log_A, log_pi, memory_log_alpha, multivar,  t): \n",
    "    if t == 0:\n",
    "        memory_log_alpha[z, t] = log_pi[z]\n",
    "        return log_pi[z]\n",
    "    p_yt_zt = multivar[z].pdf(Y_t_data[t])\n",
    "    log_alpha = 0\n",
    "    for i in range(4):\n",
    "        log_alpha_i_tminus1 = 0 \n",
    "        if memory_log_alpha[i, t-1] == 0:\n",
    "            log_alpha_i_tminus1 = computeLogAlpha(i, Y_t_data, log_A, log_pi, memory_log_alpha,multivar,  t-1)\n",
    "        else:\n",
    "            log_alpha_i_tminus1 = memory_log_alpha[i, t-1]\n",
    "        log_alpha += np.log(p_yt_zt) + log_A[z, i] + log_alpha_i_tminus1\n",
    "    \n",
    "    memory_log_alpha[z, t] = log_alpha  \n",
    "    return log_alpha"
   ]
  },
  {
   "cell_type": "code",
   "execution_count": 109,
   "metadata": {},
   "outputs": [
    {
     "data": {
      "text/plain": [
       "-6206742.28951718"
      ]
     },
     "execution_count": 109,
     "metadata": {},
     "output_type": "execute_result"
    }
   ],
   "source": [
    "memory_log_alpha = np.zeros((4, T + 1))\n",
    "computeLogAlpha(2, Y_t_data, log_A, log_pi, memory_log_alpha,multivar,  8)"
   ]
  },
  {
   "cell_type": "code",
   "execution_count": 110,
   "metadata": {},
   "outputs": [],
   "source": [
    "def computeLogBeta(z, Y_t_data, log_A, log_pi, memory_log_beta, multivar,  t): \n",
    "    if t == T:  \n",
    "        memory_log_beta[z, t] = 0\n",
    "        return 0\n",
    "    log_beta = 0\n",
    "    for i in range(4):\n",
    "        log_beta_i_tplus1 = 0 \n",
    "        if memory_log_beta[i, t+1] == 0:\n",
    "            log_beta_i_tplus1 = computeLogBeta(i, Y_t_data, log_A, log_pi, memory_log_beta,multivar, t+1)\n",
    "        else:\n",
    "            log_beta_i_tplus1 = memory_log_beta[i, t+1]\n",
    "        \n",
    "        log_beta += log_A[z, i] + np.log(multivar[i].pdf(Y_t_data[t])) +  log_beta_i_tplus1\n",
    "      \n",
    "    memory_log_beta[z, t] = log_beta  \n",
    "    return log_beta"
   ]
  },
  {
   "cell_type": "code",
   "execution_count": 111,
   "metadata": {},
   "outputs": [
    {
     "data": {
      "text/plain": [
       "-7304.243468618553"
      ]
     },
     "execution_count": 111,
     "metadata": {},
     "output_type": "execute_result"
    }
   ],
   "source": [
    "memory_log_beta = np.zeros((4, T + 1))\n",
    "computeLogBeta(2, Y_t_data, log_A, log_pi, memory_log_beta,multivar, T-3)"
   ]
  },
  {
   "cell_type": "markdown",
   "metadata": {},
   "source": [
    "## 3. EM Algorithm\n",
    "\n",
    "We will use the formulas found computed on the pdf file \n",
    "We will also initialize $\\Pi_0$, $\\mu_i$ and $\\Sigma_i$ with the values found in the previous homework\n",
    "For A, we will follow Mr Chopin's advice and we'll initiate our matrix with strong diagonal weights"
   ]
  },
  {
   "cell_type": "code",
   "execution_count": 133,
   "metadata": {},
   "outputs": [],
   "source": [
    "def computeSmoothing(memory_log_alpha, memory_log_beta):\n",
    "    p_zt_i = np.zeros((4, T))\n",
    "    for t in range(T):\n",
    "        memory_log_alpha_t = memory_log_alpha[:, t]\n",
    "        memory_log_beta_t = memory_log_alpha[:, t]\n",
    "        sum_memory_log_t = memory_log_alpha_t + memory_log_beta_t\n",
    "        max_sum_log = np.min(-sum_memory_log_t)\n",
    "        augmented_exp_sum_memory_log_t = np.exp(sum_memory_log_t + max_sum_log)\n",
    "        for i in range(4):\n",
    "            p_zt_i[i, t] = augmented_exp_sum_memory_log_t[i] / np.sum(augmented_exp_sum_memory_log_t)\n",
    "            \n",
    "    return p_zt_i\n",
    "\n",
    "def computePzt1zt(memory_log_alpha, memory_log_beta, log_A, multivar, Y_t_data):\n",
    "    p_zt1_j_zt_i = np.zeros((4,4, T))\n",
    "    t = 0\n",
    "    sum_memory_log_t = memory_log_alpha[:, t] + memory_log_beta[:, t]\n",
    "    max_sum_memory_log_t = np.max(sum_memory_log_t)\n",
    "    print(\"max_sum_memory_log_t\", max_sum_memory_log_t)\n",
    "    print(\"sum_memory_log_t\", sum_memory_log_t)\n",
    "    sum_memory_alphat_betat1 = memory_log_alpha[:, t] + memory_log_beta[:, t+1]\n",
    "    for j in range(K):\n",
    "        for i in range(K):\n",
    "            print(max_sum_memory_log_t)\n",
    "            tmpValue = memory_log_alpha[:, t][i] + memory_log_beta[:, t+1][j] + log_A[i,j] + np.log(multivar[j].pdf(Y_t_data[t+1]))\n",
    "            below = max_sum_memory_log_t + np.log(np.sum(np.exp(sum_memory_log_t - max_sum_memory_log_t)))\n",
    "            print(\"tmpValue:\", tmpValue, \"below:\", below)\n",
    "            value = np.exp(tmpValue + below)\n",
    "            print(i, j, value)\n",
    "            \n",
    "            \n",
    "            \n",
    "#             sum_memory_alphat_betat1 = memory_log_alpha_t[i] + memory_log_beta_t1[j]\n",
    "#             max_sum_log = np.max(sum_memory_alphat_betat1, max_sum_memory_log_t)\n",
    "#             augmented_exp_sum_memory_log_t = np.exp(sum_memory_log_t - max_sum_log)   \n",
    "#             ptji0 = np.exp(sum_memory_alphat_betat1 - max_sum_log)/np.sum(augmented_exp_sum_memory_log_t)\n",
    "#             p_zt1_j_zt_i[j, i, t] = ptji0 * A[j, i] * "
   ]
  },
  {
   "cell_type": "code",
   "execution_count": 136,
   "metadata": {},
   "outputs": [],
   "source": [
    "def EM():\n",
    "    Y_t_data = data['data']\n",
    "    \n",
    "    # init\n",
    "    pi = [0.20, 0.24, 0.25, 0.31]\n",
    "    centers = [[3.79, -3.64], [ 3.99, -3.64 ], [ -2.03, 4.16 ], [ -3.08, -3.56 ]]\n",
    "\n",
    "    sigma_0 = np.matrix([[ 0.87, 0.06 ], [ 0.06, 2.21]])\n",
    "    sigma_1 = np.matrix([[ 0.20, 0.22 ], [ 0.22, 10.40]])\n",
    "    sigma_2 = np.matrix([[ 2.92, 0.17 ], [ 0.17, 2.77]])\n",
    "    sigma_3 = np.matrix([[ 6.14, 5.94 ], [ 5.94, 6.07]])\n",
    "\n",
    "    sigmas = [sigma_0, sigma_1, sigma_2, sigma_3]\n",
    "    \n",
    "    multivar = dict()\n",
    "    for k in range(K):\n",
    "        m = scipy.stats.multivariate_normal(centers[k], sigmas[k])\n",
    "        multivar[k] =m\n",
    "        A =  1/10 * np.ones((4,4)) + 6/10 * np.identity(4)\n",
    "    \n",
    "    \n",
    "    p_z0_i = np.zeros((4,1))\n",
    "    p_zt_i = np.zeros((4, T))\n",
    "    p_zt1_j_zt_i = np.zeros((T, T))\n",
    "    \n",
    "    for j in range(1):\n",
    "        # we use this memory to avoid unnecessary recomputation\n",
    "        memory_log_alpha = np.zeros((4, T + 1))\n",
    "        memory_log_beta = np.zeros((4, T + 1))\n",
    "        # E step \n",
    "        log_A = np.log(A)\n",
    "        log_pi = np.log(pi)\n",
    "        print(log_pi)\n",
    "        for i in range(4):\n",
    "            # we fill memory_log_alpha and memory_log_beta\n",
    "            _ = computeLogAlpha(i, Y_t_data, log_A, log_pi, memory_log_alpha,multivar, T)\n",
    "            _ = computeLogBeta(i, Y_t_data, log_A, log_pi, memory_log_beta,multivar, 0)\n",
    "        print(memory_log_alpha[:, 0])\n",
    "        print(memory_log_beta[:, 0])\n",
    "        p_zt_i = computeSmoothing(memory_log_alpha, memory_log_beta)\n",
    "        p_zt1_j_zt_i = computePzt1zt(memory_log_alpha, memory_log_beta, log_A, multivar, Y_t_data)\n",
    "        "
   ]
  },
  {
   "cell_type": "code",
   "execution_count": 137,
   "metadata": {},
   "outputs": [
    {
     "name": "stdout",
     "output_type": "stream",
     "text": [
      "[-1.60943791 -1.42711636 -1.38629436 -1.17118298]\n",
      "[-1.60943791 -1.42711636 -1.38629436 -1.17118298]\n",
      "[-3.10034595e+302 -3.10034595e+302 -3.10034595e+302 -3.10034595e+302]\n",
      "max_sum_memory_log_t -3.1003459466837548e+302\n",
      "sum_memory_log_t [-3.10034595e+302 -3.10034595e+302 -3.10034595e+302 -3.10034595e+302]\n",
      "-3.1003459466837548e+302\n",
      "tmpValue: -7.750864866709387e+301 below: -3.1003459466837548e+302\n",
      "0 0 0.0\n",
      "-3.1003459466837548e+302\n",
      "tmpValue: -7.750864866709387e+301 below: -3.1003459466837548e+302\n",
      "1 0 0.0\n",
      "-3.1003459466837548e+302\n",
      "tmpValue: -7.750864866709387e+301 below: -3.1003459466837548e+302\n",
      "2 0 0.0\n",
      "-3.1003459466837548e+302\n",
      "tmpValue: -7.750864866709387e+301 below: -3.1003459466837548e+302\n",
      "3 0 0.0\n",
      "-3.1003459466837548e+302\n",
      "tmpValue: -7.750864866709387e+301 below: -3.1003459466837548e+302\n",
      "0 1 0.0\n",
      "-3.1003459466837548e+302\n",
      "tmpValue: -7.750864866709387e+301 below: -3.1003459466837548e+302\n",
      "1 1 0.0\n",
      "-3.1003459466837548e+302\n",
      "tmpValue: -7.750864866709387e+301 below: -3.1003459466837548e+302\n",
      "2 1 0.0\n",
      "-3.1003459466837548e+302\n",
      "tmpValue: -7.750864866709387e+301 below: -3.1003459466837548e+302\n",
      "3 1 0.0\n",
      "-3.1003459466837548e+302\n",
      "tmpValue: -7.750864866709387e+301 below: -3.1003459466837548e+302\n",
      "0 2 0.0\n",
      "-3.1003459466837548e+302\n",
      "tmpValue: -7.750864866709387e+301 below: -3.1003459466837548e+302\n",
      "1 2 0.0\n",
      "-3.1003459466837548e+302\n",
      "tmpValue: -7.750864866709387e+301 below: -3.1003459466837548e+302\n",
      "2 2 0.0\n",
      "-3.1003459466837548e+302\n",
      "tmpValue: -7.750864866709387e+301 below: -3.1003459466837548e+302\n",
      "3 2 0.0\n",
      "-3.1003459466837548e+302\n",
      "tmpValue: -7.750864866709387e+301 below: -3.1003459466837548e+302\n",
      "0 3 0.0\n",
      "-3.1003459466837548e+302\n",
      "tmpValue: -7.750864866709387e+301 below: -3.1003459466837548e+302\n",
      "1 3 0.0\n",
      "-3.1003459466837548e+302\n",
      "tmpValue: -7.750864866709387e+301 below: -3.1003459466837548e+302\n",
      "2 3 0.0\n",
      "-3.1003459466837548e+302\n",
      "tmpValue: -7.750864866709387e+301 below: -3.1003459466837548e+302\n",
      "3 3 0.0\n"
     ]
    }
   ],
   "source": [
    "EM()"
   ]
  },
  {
   "cell_type": "code",
   "execution_count": null,
   "metadata": {},
   "outputs": [],
   "source": []
  }
 ],
 "metadata": {
  "kernelspec": {
   "display_name": "Python 3",
   "language": "python",
   "name": "python3"
  },
  "language_info": {
   "codemirror_mode": {
    "name": "ipython",
    "version": 3
   },
   "file_extension": ".py",
   "mimetype": "text/x-python",
   "name": "python",
   "nbconvert_exporter": "python",
   "pygments_lexer": "ipython3",
   "version": "3.6.7"
  }
 },
 "nbformat": 4,
 "nbformat_minor": 2
}
