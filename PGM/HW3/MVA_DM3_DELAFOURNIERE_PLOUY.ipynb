{
 "cells": [
  {
   "cell_type": "code",
   "execution_count": 2,
   "metadata": {},
   "outputs": [],
   "source": [
    "import pandas as pd\n",
    "import numpy as np\n",
    "import scipy.stats\n",
    "import matplotlib.pyplot as plt\n",
    "from matplotlib.patches import Ellipse\n",
    "import os\n",
    "dir_path = os.getcwd()\n"
   ]
  },
  {
   "cell_type": "code",
   "execution_count": 3,
   "metadata": {},
   "outputs": [],
   "source": [
    "d_types = ['data', 'test']\n",
    "data = dict()\n",
    "for d_type in d_types:\n",
    "        path = dir_path +\"/\"+\"classification_data_HWK2/EMGaussian.\" + d_type \n",
    "        data[d_type] = pd.read_csv(path, sep=' ', header=None).values"
   ]
  },
  {
   "cell_type": "code",
   "execution_count": 4,
   "metadata": {},
   "outputs": [],
   "source": [
    "K = 4"
   ]
  },
  {
   "cell_type": "code",
   "execution_count": 5,
   "metadata": {},
   "outputs": [],
   "source": [
    "a = np.ones((K,K))/K"
   ]
  },
  {
   "cell_type": "code",
   "execution_count": 29,
   "metadata": {},
   "outputs": [],
   "source": [
    "# We use the parameters found in HW2 - Q3 (We use our data)\n",
    "pi = [0.20, 0.24, 0.25, 0.31]\n",
    "centers = [[3.79, -3.64], [ 3.99, -3.64 ], [ -2.03, 4.16 ], [ -3.08, -3.56 ]]\n",
    "\n",
    "sigma_0 = np.matrix([[ 0.87, 0.06 ], [ 0.06, 2.21]])\n",
    "sigma_1 = np.matrix([[ 0.20, 0.22 ], [ 0.22, 10.40]])\n",
    "sigma_2 = np.matrix([[ 2.92, 0.17 ], [ 0.17, 2.77]])\n",
    "sigma_3 = np.matrix([[ 6.14, 5.94 ], [ 5.94, 6.07]])\n",
    "\n",
    "sigmas = [sigma_0, sigma_1, sigma_2, sigma_3]\n",
    "\n",
    "multivar = dict()\n",
    "for k in range(K):\n",
    "    m = scipy.stats.multivariate_normal(centers[k], sigmas[k])\n",
    "    multivar[k] =m\n",
    "    \n",
    "# We also need to initiate A as it is not specified what is its value\n",
    "# We follow Mr Chopin's advice to have strong weight on the diagonal\n",
    "A =  1/10 * np.ones((4,4)) + 6/10 * np.identity(4)\n",
    "\n",
    "Y_t_data = data['data']\n",
    "T = len(Y_t_data)-1"
   ]
  },
  {
   "cell_type": "code",
   "execution_count": 16,
   "metadata": {},
   "outputs": [],
   "source": [
    "def computeAlpha(z, Y_t_data, A,  t): \n",
    "    if t == 0:\n",
    "        return pi[z]\n",
    "    p_yt_zt = multivar[z].pdf(Y_t_data[t])\n",
    "    alpha = 0\n",
    "    for i in range(4):\n",
    "        alpha += p_yt_zt * A[z, i] * computeAlpha(i, Y_t_data, A, t-1)\n",
    "        \n",
    "    return alpha"
   ]
  },
  {
   "cell_type": "code",
   "execution_count": 21,
   "metadata": {},
   "outputs": [
    {
     "data": {
      "text/plain": [
       "9.711462643780658e-22"
      ]
     },
     "execution_count": 21,
     "metadata": {},
     "output_type": "execute_result"
    }
   ],
   "source": [
    "computeAlpha(2, Y_t_data, A, 8)"
   ]
  },
  {
   "cell_type": "code",
   "execution_count": 26,
   "metadata": {},
   "outputs": [],
   "source": [
    "def computeBeta(z, Y_t_data, A,  t): \n",
    "    if t == len(Y_t_data):\n",
    "        return 1\n",
    "    beta = 0\n",
    "    for i in range(4):\n",
    "        beta += A[z, i] * multivar[i].pdf(Y_t_data[t]) *  computeBeta(i, Y_t_data, A, t+1)\n",
    "        \n",
    "    return beta"
   ]
  },
  {
   "cell_type": "code",
   "execution_count": 30,
   "metadata": {},
   "outputs": [
    {
     "data": {
      "text/plain": [
       "2.7999202097087733e-08"
      ]
     },
     "execution_count": 30,
     "metadata": {},
     "output_type": "execute_result"
    }
   ],
   "source": [
    "computeBeta(2, Y_t_data, A, T-3)"
   ]
  },
  {
   "cell_type": "code",
   "execution_count": 63,
   "metadata": {},
   "outputs": [],
   "source": [
    "# we note that values are very low, we thus need to use the log version to prevent numerical errors\n",
    "log_A = np.log(A)\n",
    "log_pi = np.log(pi)\n",
    "\n",
    "# We will also use a matrix to store the already computed values of logAlpha and logBeta to prevent us from recomputing\n",
    "# the whole recursivity at every step\n",
    "\n",
    "memory_log_alpha = np.zeros((4, T + 1))\n",
    "memory_log_beta = np.zeros((4, T + 1))"
   ]
  },
  {
   "cell_type": "code",
   "execution_count": 67,
   "metadata": {},
   "outputs": [],
   "source": [
    "def computeLogAlpha(z, Y_t_data, log_A,  t): \n",
    "    if t == 0:\n",
    "        return log_pi[z]\n",
    "    p_yt_zt = multivar[z].pdf(Y_t_data[t])\n",
    "    log_alpha = 0\n",
    "    for i in range(4):\n",
    "        log_alpha_i_tminus1 = 0 \n",
    "        if memory_log_alpha[i, t-1] == 0:\n",
    "            log_alpha_i_tminus1 = computeLogAlpha(i, Y_t_data, A, t-1)\n",
    "        else:\n",
    "            log_alpha_i_tminus1 = memory_log_alpha[i, t-1]\n",
    "        log_alpha += np.log(p_yt_zt) + log_A[z, i] + log_alpha_i_tminus1\n",
    "    \n",
    "    memory_log_alpha[z, t] = log_alpha  \n",
    "    return log_alpha"
   ]
  },
  {
   "cell_type": "code",
   "execution_count": 71,
   "metadata": {},
   "outputs": [
    {
     "data": {
      "text/plain": [
       "-6206742.28951718"
      ]
     },
     "execution_count": 71,
     "metadata": {},
     "output_type": "execute_result"
    }
   ],
   "source": [
    "computeLogAlpha(2, Y_t_data, log_A, 8)"
   ]
  },
  {
   "cell_type": "code",
   "execution_count": 74,
   "metadata": {},
   "outputs": [],
   "source": [
    "def computeLogBeta(z, Y_t_data, log_A,  t): \n",
    "    if t == T:\n",
    "        return 0\n",
    "    log_beta = 0\n",
    "    for i in range(4):\n",
    "        log_beta_i_tplus1 = 0 \n",
    "        if memory_log_beta[i, t+1] == 0:\n",
    "            log_beta_i_tplus1 = computeLogBeta(i, Y_t_data, A, t+1)\n",
    "        else:\n",
    "            log_beta_i_tplus1 = memory_log_beta[i, t+1]\n",
    "        \n",
    "        log_beta += log_A[z, i] + np.log(multivar[i].pdf(Y_t_data[t])) +  log_beta_i_tplus1\n",
    "      \n",
    "    memory_log_beta[z, t] = log_beta  \n",
    "    return log_beta"
   ]
  },
  {
   "cell_type": "code",
   "execution_count": 75,
   "metadata": {},
   "outputs": [
    {
     "data": {
      "text/plain": [
       "-7304.243468618553"
      ]
     },
     "execution_count": 75,
     "metadata": {},
     "output_type": "execute_result"
    }
   ],
   "source": [
    "computeLogBeta(2, Y_t_data, log_A, T-3)"
   ]
  },
  {
   "cell_type": "code",
   "execution_count": null,
   "metadata": {},
   "outputs": [],
   "source": []
  }
 ],
 "metadata": {
  "kernelspec": {
   "display_name": "Python 3",
   "language": "python",
   "name": "python3"
  },
  "language_info": {
   "codemirror_mode": {
    "name": "ipython",
    "version": 3
   },
   "file_extension": ".py",
   "mimetype": "text/x-python",
   "name": "python",
   "nbconvert_exporter": "python",
   "pygments_lexer": "ipython3",
   "version": "3.6.7"
  }
 },
 "nbformat": 4,
 "nbformat_minor": 2
}
