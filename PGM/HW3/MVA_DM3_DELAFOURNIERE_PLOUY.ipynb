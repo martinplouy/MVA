{
 "cells": [
  {
   "cell_type": "code",
   "execution_count": 1,
   "metadata": {},
   "outputs": [],
   "source": [
    "import pandas as pd\n",
    "import numpy as np\n",
    "import scipy.stats\n",
    "import matplotlib.pyplot as plt\n",
    "from matplotlib.patches import Ellipse\n",
    "import os\n",
    "dir_path = os.getcwd()\n"
   ]
  },
  {
   "cell_type": "code",
   "execution_count": 2,
   "metadata": {},
   "outputs": [],
   "source": [
    "d_types = ['data', 'test']\n",
    "data = dict()\n",
    "for d_type in d_types:\n",
    "        path = dir_path +\"/\"+\"classification_data_HWK2/EMGaussian.\" + d_type \n",
    "        data[d_type] = pd.read_csv(path, sep=' ', header=None).values"
   ]
  },
  {
   "cell_type": "code",
   "execution_count": null,
   "metadata": {},
   "outputs": [],
   "source": []
  },
  {
   "cell_type": "code",
   "execution_count": 3,
   "metadata": {},
   "outputs": [],
   "source": [
    "Y_t_data = data['data']\n",
    "K = 4\n",
    "T = len(Y_t_data) - 1"
   ]
  },
  {
   "cell_type": "code",
   "execution_count": 4,
   "metadata": {},
   "outputs": [],
   "source": [
    "# We use the parameters found in HW2 - Q3 (We use our data)\n",
    "pi = [0.20, 0.24, 0.25, 0.31]\n",
    "centers = [[3.79, -3.64], [ 3.99, -3.64 ], [ -2.03, 4.16 ], [ -3.08, -3.56 ]]\n",
    "\n",
    "sigma_0 = np.matrix([[ 0.87, 0.06 ], [ 0.06, 2.21]])\n",
    "sigma_1 = np.matrix([[ 0.20, 0.22 ], [ 0.22, 10.40]])\n",
    "sigma_2 = np.matrix([[ 2.92, 0.17 ], [ 0.17, 2.77]])\n",
    "sigma_3 = np.matrix([[ 6.14, 5.94 ], [ 5.94, 6.07]])\n",
    "\n",
    "sigmas = [sigma_0, sigma_1, sigma_2, sigma_3]\n",
    "\n",
    "multivar = dict()\n",
    "for k in range(K):\n",
    "    m = scipy.stats.multivariate_normal(centers[k], sigmas[k])\n",
    "    multivar[k] =m\n",
    "    \n",
    "# We also need to initiate A as it is not specified what is its value\n",
    "# We follow Mr Chopin's advice to have strong weight on the diagonal\n",
    "A =  1/10 * np.ones((K,K)) + 6/10 * np.identity(K)"
   ]
  },
  {
   "cell_type": "code",
   "execution_count": 5,
   "metadata": {},
   "outputs": [],
   "source": [
    "def computeAlpha(z, Y_t_data, A,  t): \n",
    "    if t == 0:\n",
    "        return pi[z]\n",
    "    p_yt_zt = multivar[z].pdf(Y_t_data[t])\n",
    "    alpha = 0\n",
    "    for i in range(K):\n",
    "        alpha += p_yt_zt * A[z, i] * computeAlpha(i, Y_t_data, A, t-1)\n",
    "        \n",
    "    return alpha"
   ]
  },
  {
   "cell_type": "code",
   "execution_count": 6,
   "metadata": {},
   "outputs": [
    {
     "name": "stdout",
     "output_type": "stream",
     "text": [
      "9.711462643780658e-22\n",
      "-48.38356514218259\n"
     ]
    }
   ],
   "source": [
    "print(computeAlpha(2, Y_t_data, A, 8))\n",
    "print(np.log(computeAlpha(2, Y_t_data, A, 8)))"
   ]
  },
  {
   "cell_type": "code",
   "execution_count": 7,
   "metadata": {},
   "outputs": [],
   "source": [
    "def computeBeta(z, Y_t_data, A,  t): \n",
    "    if t == T:\n",
    "        return 1\n",
    "    beta = 0\n",
    "    for i in range(K):\n",
    "        beta += A[z, i] * multivar[i].pdf(Y_t_data[t]) *  computeBeta(i, Y_t_data, A, t+1)\n",
    "    return beta"
   ]
  },
  {
   "cell_type": "code",
   "execution_count": 8,
   "metadata": {},
   "outputs": [
    {
     "name": "stdout",
     "output_type": "stream",
     "text": [
      "4.810772938040479e-07\n",
      "-14.547237885771235\n"
     ]
    }
   ],
   "source": [
    "print(computeBeta(2, Y_t_data, A, T-3))\n",
    "print(np.log(computeBeta(2, Y_t_data, A, T-3)))"
   ]
  },
  {
   "cell_type": "markdown",
   "metadata": {},
   "source": [
    "#### we note that values are very low, we thus need to use the log version to prevent numerical errors\n",
    "#### we will use the log-sum-exp trick to solve it more easily https://www.xarg.org/2016/06/the-log-sum-exp-trick-in-machine-learning/\n",
    "\n",
    "#### We will also use a matrix to store the already computed values of logAlpha and logBeta to prevent us from recomputing the whole recursivity at every step"
   ]
  },
  {
   "cell_type": "code",
   "execution_count": 9,
   "metadata": {},
   "outputs": [],
   "source": [
    "# we note that values are very low, we thus need to use the log version to prevent numerical errors\n",
    "log_A = np.log(A)\n",
    "log_pi = np.log(pi)\n",
    "\n",
    "# We will also use a matrix to store the already computed values of logAlpha and logBeta to prevent us from recomputing\n",
    "# the whole recursivity at every step\n"
   ]
  },
  {
   "cell_type": "code",
   "execution_count": 10,
   "metadata": {},
   "outputs": [],
   "source": [
    "def computeLogAlpha(z, Y_t_data, log_A, log_pi, memory_log_alpha, multivar,  t): \n",
    "    if t == 0:\n",
    "        memory_log_alpha[z, t] = log_pi[z]\n",
    "        return log_pi[z]\n",
    "    p_yt_zt = multivar[z].pdf(Y_t_data[t])\n",
    "    log_alpha = 0\n",
    "    log_inside_sum = [0,0,0,0]\n",
    "    for i in range(K):\n",
    "        log_alpha_i_tminus1 = 0 \n",
    "        if memory_log_alpha[i, t-1] == 0:\n",
    "            log_alpha_i_tminus1 = computeLogAlpha(i, Y_t_data, log_A, log_pi, memory_log_alpha,multivar,  t-1)\n",
    "        else:\n",
    "            log_alpha_i_tminus1 = memory_log_alpha[i, t-1]\n",
    "        log_inside_sum[i] = log_alpha_i_tminus1 + log_A[z, i]\n",
    "        \n",
    "    max_log = np.max(log_inside_sum)\n",
    "    \n",
    "    log_alpha += np.log(p_yt_zt) + max_log + np.log(np.sum(np.exp(log_inside_sum - max_log)))\n",
    "    \n",
    "    memory_log_alpha[z, t] = log_alpha  \n",
    "    return log_alpha"
   ]
  },
  {
   "cell_type": "code",
   "execution_count": 11,
   "metadata": {},
   "outputs": [
    {
     "data": {
      "text/plain": [
       "-48.38356514218258"
      ]
     },
     "execution_count": 11,
     "metadata": {},
     "output_type": "execute_result"
    }
   ],
   "source": [
    "memory_log_alpha = np.zeros((K, T + 1))\n",
    "computeLogAlpha(2, Y_t_data, log_A, log_pi, memory_log_alpha,multivar,  8)"
   ]
  },
  {
   "cell_type": "code",
   "execution_count": 12,
   "metadata": {},
   "outputs": [],
   "source": [
    "def computeLogBeta(z, Y_t_data, log_A, memory_log_beta, multivar,  t): \n",
    "    if t == T:  \n",
    "        memory_log_beta[z, t] = 0\n",
    "        return 0\n",
    "    log_inside_sum = [0,0,0,0]\n",
    "    for i in range(K):\n",
    "        log_beta_i_tplus1 = 0 \n",
    "        if memory_log_beta[i, t+1] == 0:\n",
    "            log_beta_i_tplus1 = computeLogBeta(i, Y_t_data, log_A, memory_log_beta, multivar, t+1)\n",
    "        else:\n",
    "            log_beta_i_tplus1 = memory_log_beta[i, t+1]\n",
    "        log_inside_sum[i] = log_A[z, i] + np.log(multivar[i].pdf(Y_t_data[t])) +  log_beta_i_tplus1\n",
    "    \n",
    "    max_log = np.max(log_inside_sum)\n",
    "    log_beta = max_log + np.log(np.sum(np.exp(log_inside_sum - max_log)))  \n",
    "    memory_log_beta[z, t] = log_beta  \n",
    "    return log_beta"
   ]
  },
  {
   "cell_type": "code",
   "execution_count": 13,
   "metadata": {},
   "outputs": [
    {
     "name": "stdout",
     "output_type": "stream",
     "text": [
      "-14.547237885771237\n"
     ]
    }
   ],
   "source": [
    "memory_log_beta = np.zeros((K, T + 1))\n",
    "print(computeLogBeta(2, Y_t_data, log_A, memory_log_beta, multivar, T-3))"
   ]
  },
  {
   "cell_type": "markdown",
   "metadata": {},
   "source": [
    "## 3. EM Algorithm\n",
    "\n",
    "We will use the formulas found computed on the pdf file \n",
    "We will also initialize $\\Pi_0$, $\\mu_i$ and $\\Sigma_i$ with the values found in the previous homework\n",
    "\n",
    "For A, we will follow Mr Chopin's advice and we'll initiate our matrix with strong diagonal weights"
   ]
  },
  {
   "cell_type": "code",
   "execution_count": 14,
   "metadata": {},
   "outputs": [],
   "source": [
    "def computeSmoothing(memory_log_alpha, memory_log_beta):\n",
    "    p_zt_i = np.zeros((K, T+1))\n",
    "    for t in range(T+1):\n",
    "        memory_log_alpha_t = memory_log_alpha[:, t]\n",
    "        memory_log_beta_t = memory_log_alpha[:, t]\n",
    "        sum_memory_log_t = memory_log_alpha_t + memory_log_beta_t\n",
    "        max_sum_log = np.min(-sum_memory_log_t)\n",
    "        augmented_exp_sum_memory_log_t = np.exp(sum_memory_log_t + max_sum_log)\n",
    "        for i in range(K):\n",
    "            p_zt_i[i, t] = augmented_exp_sum_memory_log_t[i] / np.sum(augmented_exp_sum_memory_log_t)\n",
    "            \n",
    "    return p_zt_i\n",
    "\n",
    "def computePijt(memory_log_alpha, memory_log_beta, log_A, multivar, Y_t_data):\n",
    "    pijt = np.zeros((K,K, T+1))\n",
    "\n",
    "    for t in range(T):\n",
    "        sum_memory_log_t = memory_log_alpha[:, t] + memory_log_beta[:, t]\n",
    "\n",
    "        max_sum_memory_log_t = np.max(sum_memory_log_t)\n",
    "        log_denominator = max_sum_memory_log_t + np.log(np.sum(np.exp(sum_memory_log_t - max_sum_memory_log_t)))\n",
    "\n",
    "        tot = 0\n",
    "        \n",
    "        for i in range(K):\n",
    "            for j in range(K):\n",
    "                log_numerator = memory_log_alpha[:, t][i] + memory_log_beta[:, t+1][j] + log_A[i,j] + np.log(multivar[j].pdf(Y_t_data[t]))\n",
    "                value = np.exp(log_numerator - log_denominator)\n",
    "                pijt[i, j, t] = value\n",
    "                tot+=value\n",
    "    return pijt"
   ]
  },
  {
   "cell_type": "code",
   "execution_count": 58,
   "metadata": {},
   "outputs": [],
   "source": [
    "def EM(niter):\n",
    "    Y_t_data = data['data']\n",
    "    \n",
    "    # init\n",
    "    pi = [0.20, 0.24, 0.25, 0.31]\n",
    "    centers = np.array([[3.79, -3.64], [ 3.99, -3.64 ], [ -2.03, 4.16 ], [ -3.08, -3.56 ]])\n",
    "\n",
    "    sigma_0 = np.matrix([[ 0.87, 0.06 ], [ 0.06, 2.21]])\n",
    "    sigma_1 = np.matrix([[ 0.20, 0.22 ], [ 0.22, 10.40]])\n",
    "    sigma_2 = np.matrix([[ 2.92, 0.17 ], [ 0.17, 2.77]])\n",
    "    sigma_3 = np.matrix([[ 6.14, 5.94 ], [ 5.94, 6.07]])\n",
    "\n",
    "    sigmas = [sigma_0, sigma_1, sigma_2, sigma_3]\n",
    "    \n",
    "    multivar = dict()\n",
    "    for k in range(K):\n",
    "        m = scipy.stats.multivariate_normal(centers[k], sigmas[k])\n",
    "        multivar[k] = m\n",
    "    \n",
    "    A =  1/10 * np.ones((K,K)) + 6/10 * np.identity(K)\n",
    "    \n",
    "    \n",
    "    p_z0_i = np.zeros((K,1))\n",
    "    p_zt_i = np.zeros((K, T+1))\n",
    "    p_zt1_j_zt_i = np.zeros((T+1, T+1))\n",
    "    \n",
    "    for j in range(niter):\n",
    "        # E step \n",
    "        \n",
    "        # we use this memory to avoid unnecessary recomputation\n",
    "        memory_log_alpha = np.zeros((K, T + 1))\n",
    "        memory_log_beta = np.zeros((K, T + 1))\n",
    "        log_A = np.log(A)\n",
    "        log_pi = np.log(pi)\n",
    "        for i in range(K):\n",
    "            # we fill memory_log_alpha and memory_log_beta\n",
    "            _ = computeLogAlpha(i, Y_t_data, log_A, log_pi, memory_log_alpha,multivar, T)\n",
    "            _ = computeLogBeta(i, Y_t_data, log_A, memory_log_beta,multivar, 0)\n",
    "        p_zt = computeSmoothing(memory_log_alpha, memory_log_beta)\n",
    "        pijt = computePijt(memory_log_alpha, memory_log_beta, log_A, multivar, Y_t_data) # todo verify values of pijt\n",
    "        \n",
    "        # M step\n",
    "        \n",
    "        pi = p_zt[:, 0]\n",
    "        for i in range(K):\n",
    "            for j in range(K):\n",
    "                A[i,j] = np.sum(pijt[i,j,:])/np.sum(p_zt[i, :])\n",
    "        \n",
    "        for i in range(K):\n",
    "            tmp_center_i = [0,0]\n",
    "            for t in range(T+1):\n",
    "                tmp_center_i += p_zt[i, t] * Y_t_data[t]\n",
    "            centers[i, :] = tmp_center_i / np.sum(p_zt[i, :])\n",
    "        for i in range(K):  \n",
    "            tmp_sigma_i = [[0,0],[0,0]]\n",
    "            for t in range(T+1):\n",
    "                tmp_mat = np.matrix(Y_t_data[t] - centers[i])\n",
    "                tmp_sigma_i += p_zt[i, t] * np.dot( np.transpose(tmp_mat),tmp_mat)\n",
    "            sigmas[i] = tmp_sigma_i / np.sum(p_zt[i, :])\n",
    "    \n",
    "    return pi, A, centers, sigmas\n",
    "\n",
    "        \n",
    "        "
   ]
  },
  {
   "cell_type": "code",
   "execution_count": 59,
   "metadata": {},
   "outputs": [
    {
     "data": {
      "text/plain": [
       "(array([0.0885974 , 0.18371558, 0.21630225, 0.51138477]),\n",
       " array([[1.01947457e+00, 2.11001322e-02, 8.79826030e-06, 1.05480747e-06],\n",
       "        [1.04536999e-02, 9.67736322e-01, 3.04833280e-03, 1.96017629e-04],\n",
       "        [1.72284034e-08, 1.51196097e-03, 1.00937760e+00, 4.03279449e-05],\n",
       "        [3.31435848e-09, 7.45218540e-04, 1.88663990e-04, 9.77506315e-01]]),\n",
       " array([[ 3.73799132, -3.85533051],\n",
       "        [ 4.01967902,  3.20158234],\n",
       "        [-1.76988706,  4.23282762],\n",
       "        [-2.87228654, -3.35382935]]),\n",
       " [matrix([[ 1.00724626, -0.08536011],\n",
       "          [-0.08536011,  2.23244203]]), matrix([[ 0.22096608,  0.24388378],\n",
       "          [ 0.24388378, 15.04440943]]), matrix([[4.17073061, 0.51253176],\n",
       "          [0.51253176, 2.99310999]]), matrix([[7.39332518, 7.13683299],\n",
       "          [7.13683299, 7.20360022]])])"
      ]
     },
     "execution_count": 59,
     "metadata": {},
     "output_type": "execute_result"
    }
   ],
   "source": [
    "EM(2)"
   ]
  },
  {
   "cell_type": "code",
   "execution_count": 60,
   "metadata": {},
   "outputs": [],
   "source": [
    "# see https://stackoverflow.com/questions/12301071/multidimensional-confidence-intervals\n",
    "def plot_cov_ellipse(cov, pos, color, nstd=2, ax=None, **kwargs):\n",
    "    \"\"\"\n",
    "    Plots an `nstd` sigma error ellipse based on the specified covariance\n",
    "    matrix (`cov`). Additional keyword arguments are passed on to the \n",
    "    ellipse patch artist.\n",
    "\n",
    "    Parameters\n",
    "    ----------\n",
    "        cov : The 2x2 covariance matrix to base the ellipse on\n",
    "        pos : The location of the center of the ellipse. Expects a 2-element\n",
    "            sequence of [x0, y0].\n",
    "        nstd : The radius of the ellipse in numbers of standard deviations.\n",
    "            Defaults to 2 standard deviations.\n",
    "        ax : The axis that the ellipse will be plotted on. Defaults to the \n",
    "            current axis.\n",
    "        Additional keyword arguments are pass on to the ellipse patch.\n",
    "\n",
    "    Returns\n",
    "    -------\n",
    "        A matplotlib ellipse artist\n",
    "    \"\"\"\n",
    "    def eigsorted(cov):\n",
    "        vals, vecs = np.linalg.eigh(cov)\n",
    "        order = vals.argsort()[::-1]\n",
    "        return vals[order], vecs[:,order]\n",
    "\n",
    "    if ax is None:\n",
    "        ax = plt.gca()\n",
    "\n",
    "    vals, vecs = eigsorted(cov)\n",
    "    theta = np.degrees(np.arctan2(*vecs[:,0][::-1]))\n",
    "\n",
    "    # Width and height are \"full\" widths, not radius\n",
    "    width, height = 2 * nstd * np.sqrt(vals)\n",
    "    ellip = Ellipse(xy=pos, width=width, height=height, angle=theta, **kwargs)\n",
    "\n",
    "    ax.add_artist(ellip)\n",
    "    ellip.set_clip_box(ax.bbox)\n",
    "    ellip.set_alpha(0.3)\n",
    "    ellip.set_facecolor(color)\n",
    "    return ellip"
   ]
  },
  {
   "cell_type": "code",
   "execution_count": 68,
   "metadata": {},
   "outputs": [],
   "source": [
    "def plotEM(X, centers, sigmas, title):\n",
    "    x0 = X[:, 0]\n",
    "    x1 = X[:, 1]\n",
    "     \n",
    "    label_color_map = {0 : 'r',\n",
    "                   1 : 'g',\n",
    "                   2 : 'b',\n",
    "                   3 : 'purple'\n",
    "                   }\n",
    "\n",
    "    fig = plt.figure(figsize=(10,10))\n",
    "    ax = fig.add_subplot(111, aspect='equal')\n",
    "    \n",
    "    ax.scatter(centers[:,0], centers[:,1], color=\"black\", marker = 'v', s = 100)\n",
    "    for i in range(4):\n",
    "        ell = plot_cov_ellipse(sigmas[i], centers[i], label_color_map[i], 2, ax) # 2std => 95%\n",
    "        \n",
    "    ax.scatter(X[:,0], X[:,1], marker=\"o\", s=50)\n",
    "    \n",
    "    plt.title(title)\n",
    "    ax.set_xlim(-10, 10)\n",
    "    ax.set_ylim(-11, 11)\n",
    "    plt.show()"
   ]
  },
  {
   "cell_type": "code",
   "execution_count": 67,
   "metadata": {},
   "outputs": [
    {
     "name": "stderr",
     "output_type": "stream",
     "text": [
      "/Users/martinplouy/miniconda3/lib/python3.6/site-packages/ipykernel_launcher.py:34: RuntimeWarning: divide by zero encountered in log\n"
     ]
    },
    {
     "name": "stdout",
     "output_type": "stream",
     "text": [
      "[ 3.71626399 -3.70766376]\n"
     ]
    },
    {
     "data": {
      "image/png": "[encoded data removed]",
      "text/plain": [
       "<Figure size 720x720 with 1 Axes>"
      ]
     },
     "metadata": {
      "needs_background": "light"
     },
     "output_type": "display_data"
    }
   ],
   "source": [
    "pi, A, centers, sigmas = EM(20)\n",
    "plotEM(X, centers, sigmas, \"EM of HMM\")"
   ]
  },
  {
   "cell_type": "code",
   "execution_count": null,
   "metadata": {},
   "outputs": [],
   "source": []
  },
  {
   "cell_type": "code",
   "execution_count": null,
   "metadata": {},
   "outputs": [],
   "source": []
  },
  {
   "cell_type": "code",
   "execution_count": null,
   "metadata": {},
   "outputs": [],
   "source": [
    "def computeLL(Y, pi, A, centers, sigmas, z):\n",
    "    llh = np.log(pi[z[0]])\n",
    "    \n",
    "    multivar = dict()\n",
    "    for k in range(K):\n",
    "        m = scipy.stats.multivariate_normal(centers[k], sigmas[k])\n",
    "        multivar[k] = m\n",
    "        \n",
    "    for t in range(len(Y)-2):\n",
    "        llh += np.log(multivar[z[t]].pdf(Y[t])) + np.log(A[z[t], z[t+1]])\n",
    "    llh += np.log(multivar[z[len(Y)-1]].pdf(Y[len(Y)-1]))\n",
    "        \n",
    "        \n",
    "    "
   ]
  },
  {
   "cell_type": "code",
   "execution_count": null,
   "metadata": {},
   "outputs": [],
   "source": []
  },
  {
   "cell_type": "code",
   "execution_count": null,
   "metadata": {},
   "outputs": [],
   "source": []
  },
  {
   "cell_type": "code",
   "execution_count": null,
   "metadata": {},
   "outputs": [],
   "source": []
  },
  {
   "cell_type": "code",
   "execution_count": null,
   "metadata": {},
   "outputs": [],
   "source": [
    "# from where you can work"
   ]
  }
 ],
 "metadata": {
  "kernelspec": {
   "display_name": "Python 3",
   "language": "python",
   "name": "python3"
  },
  "language_info": {
   "codemirror_mode": {
    "name": "ipython",
    "version": 3
   },
   "file_extension": ".py",
   "mimetype": "text/x-python",
   "name": "python",
   "nbconvert_exporter": "python",
   "pygments_lexer": "ipython3",
   "version": "3.6.7"
  }
 },
 "nbformat": 4,
 "nbformat_minor": 2
}
