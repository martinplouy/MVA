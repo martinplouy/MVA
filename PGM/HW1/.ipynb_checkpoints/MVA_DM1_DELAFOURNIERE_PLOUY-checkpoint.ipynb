{
 "cells": [
  {
   "cell_type": "code",
   "execution_count": 106,
   "metadata": {},
   "outputs": [],
   "source": [
    "import pandas as pd\n",
    "import matplotlib.pyplot as plt\n",
    "from sklearn.linear_model import LogisticRegression\n",
    "import os\n",
    "import numpy as np\n",
    "from scipy.special import expit as sigma\n",
    "dir_path = os.getcwd()\n"
   ]
  },
  {
   "cell_type": "code",
   "execution_count": 107,
   "metadata": {},
   "outputs": [],
   "source": [
    "modelsName = ['A', 'B', 'C']\n",
    "d_types = ['train', 'test']\n",
    "data = dict()\n",
    "for model in modelsName:\n",
    "    for d_type in d_types:\n",
    "        path = dir_path +\"/\"+\"classification_data_HWK1/classification\" +model +'.' + d_type \n",
    "        data[model+'_'+d_type] = pd.read_csv(path, sep='\\t', header=None).values"
   ]
  },
  {
   "cell_type": "markdown",
   "metadata": {},
   "source": [
    "### 2) Logistic Regression\n",
    "\n",
    "f is of the form $ f(x) = w^TX + b . \\ $ <br>\n",
    "We can augment X with a row of 1 to remove b of the Equation. <br>\n",
    "f thus become $ f(x) = w^T\\tilde{X} $ <br>\n",
    "with $\\tilde{X} = (X, 1)$\n",
    "\n",
    "We will need to solve the Modified normal equations using the Newton's method described in the class material\n"
   ]
  },
  {
   "cell_type": "code",
   "execution_count": 399,
   "metadata": {},
   "outputs": [],
   "source": [
    "dd = dict()\n",
    "dd['A']\n",
    "w_0 = [[0.55104375], [0.24621418], [0.64676046]]"
   ]
  },
  {
   "cell_type": "code",
   "execution_count": 416,
   "metadata": {},
   "outputs": [],
   "source": [
    "\n",
    "def IRLS(modelName, i):\n",
    "    Y = data[modelName +'_train'][:, 2:3]\n",
    "    X = np.copy(data[modelName + '_train'][:, 0:3])\n",
    "    # we replaced the third row by the augmented row\n",
    "    X[:, 2] = 1\n",
    "    X_t = np.transpose(X)\n",
    "    w_0= np.random.rand(3, 1)\n",
    "    \n",
    "    eta_0 = np.transpose(sigma(np.dot(np.transpose(w_0), X_t)))\n",
    "    etaa = eta_0*(1-eta_0)\n",
    "    \n",
    "    D_0 = np.diag(etaa[:, 0])\n",
    "    for t in range(1000):\n",
    "        if t + 1 % 200 == 0 :\n",
    "            print(t)\n",
    "        Y_tilde = Y - eta_0\n",
    "        \n",
    "        inv = np.linalg.inv(np.dot(np.dot(X_t, D_0), X))\n",
    "        first = np.dot(inv, X_t)\n",
    "        second = np.dot(first, Y_tilde)\n",
    "        w_0 = w_0 + second\n",
    "\n",
    "        eta_0 = np.transpose(sigma(np.dot(np.transpose(w_0), X_t)))\n",
    "        etaa = eta_0*(1-eta_0)\n",
    "        D_0 = np.diag(etaa[:,0])\n",
    "\n",
    "    print(w_0)\n",
    "    print(w_0init)\n"
   ]
  },
  {
   "cell_type": "code",
   "execution_count": 417,
   "metadata": {},
   "outputs": [
    {
     "name": "stdout",
     "output_type": "stream",
     "text": [
      "D_0 (150, 150)\n",
      "D_0 (150, 150)\n",
      "D_0 (150, 150)\n",
      "D_0 (150, 150)\n",
      "D_0 (150, 150)\n",
      "D_0 (150, 150)\n",
      "D_0 (150, 150)\n",
      "D_0 (150, 150)\n",
      "D_0 (150, 150)\n",
      "D_0 (150, 150)\n",
      "D_0 (150, 150)\n",
      "D_0 (150, 150)\n",
      "D_0 (150, 150)\n",
      "D_0 (150, 150)\n",
      "D_0 (150, 150)\n",
      "D_0 (150, 150)\n",
      "D_0 (150, 150)\n",
      "D_0 (150, 150)\n",
      "D_0 (150, 150)\n",
      "D_0 (150, 150)\n",
      "D_0 (150, 150)\n",
      "D_0 (150, 150)\n",
      "D_0 (150, 150)\n",
      "D_0 (150, 150)\n",
      "D_0 (150, 150)\n",
      "D_0 (150, 150)\n",
      "D_0 (150, 150)\n",
      "D_0 (150, 150)\n",
      "D_0 (150, 150)\n",
      "D_0 (150, 150)\n",
      "D_0 (150, 150)\n",
      "D_0 (150, 150)\n",
      "D_0 (150, 150)\n",
      "D_0 (150, 150)\n",
      "D_0 (150, 150)\n",
      "D_0 (150, 150)\n",
      "D_0 (150, 150)\n",
      "D_0 (150, 150)\n",
      "D_0 (150, 150)\n",
      "D_0 (150, 150)\n",
      "D_0 (150, 150)\n",
      "D_0 (150, 150)\n",
      "D_0 (150, 150)\n",
      "D_0 (150, 150)\n",
      "D_0 (150, 150)\n",
      "D_0 (150, 150)\n",
      "D_0 (150, 150)\n",
      "D_0 (150, 150)\n",
      "D_0 (150, 150)\n",
      "D_0 (150, 150)\n",
      "D_0 (150, 150)\n",
      "D_0 (150, 150)\n",
      "D_0 (150, 150)\n",
      "D_0 (150, 150)\n",
      "D_0 (150, 150)\n",
      "D_0 (150, 150)\n",
      "D_0 (150, 150)\n",
      "D_0 (150, 150)\n",
      "D_0 (150, 150)\n",
      "D_0 (150, 150)\n",
      "D_0 (150, 150)\n",
      "D_0 (150, 150)\n",
      "D_0 (150, 150)\n",
      "D_0 (150, 150)\n",
      "D_0 (150, 150)\n",
      "D_0 (150, 150)\n",
      "D_0 (150, 150)\n",
      "D_0 (150, 150)\n",
      "D_0 (150, 150)\n",
      "D_0 (150, 150)\n",
      "D_0 (150, 150)\n",
      "D_0 (150, 150)\n",
      "D_0 (150, 150)\n",
      "D_0 (150, 150)\n",
      "D_0 (150, 150)\n",
      "D_0 (150, 150)\n",
      "D_0 (150, 150)\n",
      "D_0 (150, 150)\n",
      "D_0 (150, 150)\n",
      "D_0 (150, 150)\n",
      "D_0 (150, 150)\n",
      "D_0 (150, 150)\n",
      "D_0 (150, 150)\n",
      "D_0 (150, 150)\n",
      "D_0 (150, 150)\n",
      "D_0 (150, 150)\n",
      "D_0 (150, 150)\n",
      "D_0 (150, 150)\n",
      "D_0 (150, 150)\n",
      "D_0 (150, 150)\n",
      "D_0 (150, 150)\n",
      "D_0 (150, 150)\n",
      "D_0 (150, 150)\n",
      "D_0 (150, 150)\n",
      "D_0 (150, 150)\n",
      "D_0 (150, 150)\n",
      "D_0 (150, 150)\n",
      "D_0 (150, 150)\n",
      "D_0 (150, 150)\n",
      "D_0 (150, 150)\n"
     ]
    }
   ],
   "source": [
    "for i in range (100):\n",
    "    try:\n",
    "        IRLS('A', i)\n",
    "    except:\n",
    "        pass"
   ]
  },
  {
   "cell_type": "code",
   "execution_count": null,
   "metadata": {},
   "outputs": [],
   "source": []
  },
  {
   "cell_type": "markdown",
   "metadata": {},
   "source": [
    "### 3) Linear Regression\n",
    "\n",
    "f is of the form $ f(x) = w^TX + b . \\ $ <br>\n",
    "We can augment X with a row of 1 to remove b of the Equation. <br>\n",
    "f thus become $ f(x) = w^T\\tilde{X} $ <br>\n",
    "with $\\tilde{X} = (X, 1)$\n",
    "\n",
    "We need to solve the normal equation which is : $$ \\tilde{X}^T\\tilde{X}w-\\tilde{X}^Ty=0 $$"
   ]
  },
  {
   "cell_type": "code",
   "execution_count": 82,
   "metadata": {},
   "outputs": [],
   "source": [
    "def solveNormalEquation(modelName):\n",
    "    Y = data[modelName +'_train'][:, 2:3]\n",
    "    X = np.copy(data[modelName + '_train'][:, 0:3])\n",
    "    # we replaced the third row by the augmented row\n",
    "    X[:, 2] = 1\n",
    "    \n",
    "    rank = np.linalg.matrix_rank(X)\n",
    "    if rank != 3:\n",
    "        print(\"XtX isn't invertible\")\n",
    "    X_t = np.transpose(X)\n",
    "    beta = np.dot(np.linalg.inv(np.dot(X_t, X)), np.dot(X_t, Y))\n",
    "    return beta[0][0], beta[1][0], beta[2][0]\n",
    "    "
   ]
  },
  {
   "cell_type": "code",
   "execution_count": 86,
   "metadata": {},
   "outputs": [
    {
     "name": "stdout",
     "output_type": "stream",
     "text": [
      "For model A learnt parameters are :\n",
      "\tw = [-0.264,-0.373]\n",
      "\tb = 0.492\n",
      "\n",
      "For model B learnt parameters are :\n",
      "\tw = [-0.104,0.052]\n",
      "\tb = 0.500\n",
      "\n",
      "For model C learnt parameters are :\n",
      "\tw = [-0.128,-0.017]\n",
      "\tb = 0.508\n",
      "\n"
     ]
    }
   ],
   "source": [
    "for name in modelsName:\n",
    "    omega0, omega1, b = solveNormalEquation(name)\n",
    "    print('For model {0} learnt parameters are :\\n\\tw = [{1:.3f},{2:.3f}]\\n\\tb = {3:.3f}\\n'.format(name,\n",
    "                                                                                                omega0,\n",
    "                                                                                                omega1,\n",
    "                                                                                                b))"
   ]
  },
  {
   "cell_type": "code",
   "execution_count": 102,
   "metadata": {},
   "outputs": [],
   "source": [
    "def plotForModel(modelName): \n",
    "    fig, ax = plt.subplots()\n",
    "    x0_0 = data[modelName+ '_train'][:, 0:1][data[modelName+ '_train'][:, 2]==0]\n",
    "    x1_0 = data[modelName+ '_train'][:, 1:2][data[modelName+ '_train'][:, 2]==0]\n",
    "    x0_1 = data[modelName+ '_train'][:, 0:1][data[modelName+ '_train'][:, 2]==1]\n",
    "    x1_1 = data[modelName+ '_train'][:, 1:2][data[modelName+ '_train'][:, 2]==1]\n",
    "    ax.scatter(x0_0, x1_0, color=\"green\")\n",
    "    ax.scatter(x0_1, x1_1, color=\"red\")\n",
    "    title = \"Data plot for Model \"+modelName\n",
    "    plt.title(title)\n",
    "    plt.xlabel('x0')\n",
    "    plt.ylabel('x1')"
   ]
  },
  {
   "cell_type": "code",
   "execution_count": 103,
   "metadata": {},
   "outputs": [
    {
     "data": {
      "image/png": "[encoded data removed]",
      "text/plain": [
       "<Figure size 432x288 with 1 Axes>"
      ]
     },
     "metadata": {
      "needs_background": "light"
     },
     "output_type": "display_data"
    },
    {
     "data": {
      "image/png": "[encoded data removed]",
      "text/plain": [
       "<Figure size 432x288 with 1 Axes>"
      ]
     },
     "metadata": {
      "needs_background": "light"
     },
     "output_type": "display_data"
    },
    {
     "data": {
      "image/png": "[encoded data removed]",
      "text/plain": [
       "<Figure size 432x288 with 1 Axes>"
      ]
     },
     "metadata": {
      "needs_background": "light"
     },
     "output_type": "display_data"
    }
   ],
   "source": [
    "for name in modelsName:\n",
    "    plotForModel(name)\n",
    "   "
   ]
  },
  {
   "cell_type": "code",
   "execution_count": null,
   "metadata": {},
   "outputs": [],
   "source": []
  },
  {
   "cell_type": "code",
   "execution_count": null,
   "metadata": {},
   "outputs": [],
   "source": []
  }
 ],
 "metadata": {
  "kernelspec": {
   "display_name": "Python 3",
   "language": "python",
   "name": "python3"
  },
  "language_info": {
   "codemirror_mode": {
    "name": "ipython",
    "version": 3
   },
   "file_extension": ".py",
   "mimetype": "text/x-python",
   "name": "python",
   "nbconvert_exporter": "python",
   "pygments_lexer": "ipython3",
   "version": "3.6.4"
  }
 },
 "nbformat": 4,
 "nbformat_minor": 2
}
