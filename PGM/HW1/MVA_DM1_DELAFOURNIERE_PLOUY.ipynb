{
 "cells": [
  {
   "cell_type": "code",
   "execution_count": 1,
   "metadata": {},
   "outputs": [],
   "source": [
    "import pandas as pd\n",
    "import matplotlib.pyplot as plt\n",
    "from sklearn.linear_model import LogisticRegression\n",
    "import os\n",
    "import numpy as np\n",
    "from scipy.special import expit as sigma\n",
    "dir_path = os.getcwd()\n"
   ]
  },
  {
   "cell_type": "markdown",
   "metadata": {},
   "source": [
    "# Exercise 1: Learning in discrete graphical models"
   ]
  },
  {
   "cell_type": "markdown",
   "metadata": {},
   "source": [
    "Soit les observations $Y = (Y_1, ..., Y_n)$ avec \n",
    "\n",
    "$$\n",
    "Y_i = \n",
    " \\bigg(\n",
    "    \\begin{array}{ll}\n",
    "        X_i \\\\\n",
    "        Z_i\n",
    "    \\end{array}\n",
    " \\bigg)\n",
    "$$\n",
    "\n",
    "alors \n",
    "$$ p(y) = \\prod_i p(y_i) = \\prod_i p(x_i | z_i) p(z_i) = \\prod_i \\theta_{z_i x_i} \\pi_{z_i} $$\n",
    "$$ p(y) = \\prod_{m \\in \\mathcal{M}} \\pi_m^{n_m} \\prod_{m \\in \\mathcal{M}, k \\in \\mathcal{K}} \\theta_{mk}^{n_{mk}} $$ où \n",
    "$n_{mk} = \\sum_i \\mathbb{1}\\{x_i = k, z_i = m\\} =$ \"Nombre de couples $(k, m)$ dans les observations\"\n",
    "\n",
    "et \n",
    "\n",
    "$n_m = \\sum_i \\sum_k n_{m, k} = \\sum_i \\mathbb{1}\\{z_i = m\\} =$ \"Nombre d'observations où  $z_i = m$\"\n",
    "\n",
    "Alors, on veut maximiser\n",
    "$$ log(p(y)) = \\sum_m n_m log(\\pi_m) + \\sum_{m, k} n_{mk} log(\\theta_{mk})$$\n",
    "sous les contraintes \n",
    "$\\sum_m \\pi_m = 1$\n",
    "et\n",
    "$\\sum_{m, k} \\theta_{mk} = 1$\n",
    "\n",
    "Posons donc le Lagrangien :\n",
    "\n",
    "$$ \\mathcal{L}(\\pi, \\theta, \\lambda, \\mu) =  \\sum_m n_m log(\\pi_m) + \\sum_{m, k} n_{mk} log(\\theta_{mk}) - \\lambda(\\sum_m \\pi_m - 1) - \\mu(\\sum_{m, k} \\theta_{mk} - 1)$$ \n",
    "\n",
    "En dérivant par rapport à $\\pi$:\n",
    "$$ \\frac{\\partial \\mathcal{L}}{\\partial \\pi_m} = \\frac{n_m}{\\pi_m} - \\lambda = 0  \\Rightarrow \\pi_m = \\frac{n_m}{\\lambda}$$ or avec la contrainte $$\\sum_m \\pi_m = 1 \\Rightarrow \\hat{\\pi}_m = \\frac{n_m}{n}$$\n",
    "\n",
    "De même, en dérivant par rapport à $\\theta$:\n",
    "$$ \\frac{\\partial \\mathcal{L}}{\\partial \\theta_{mk}} = \\frac{n_{mk}}{\\theta_{mk}} - \\mu = 0  \\Rightarrow \\theta_{mk} = \\frac{n_{mk}}{\\mu}$$ or avec la contrainte $$\\sum_{m, k} \\theta_{mk} = 1 \\Rightarrow \\hat{\\theta}_{mk} = \\frac{n_{mk}}{n}$$"
   ]
  },
  {
   "cell_type": "markdown",
   "metadata": {},
   "source": [
    "# Exercice 2 :  Linear classification"
   ]
  },
  {
   "cell_type": "markdown",
   "metadata": {},
   "source": [
    "### 1) Generative model: LDA\n",
    "\n",
    "(a) Pour une seum observation :\n",
    "$$ p(y|x) \\propto p(x|y)p(y) = \\pi^y (1-\\pi)^{1-y} p(x|y)$$\n",
    "$$ p(y|x) \\propto \\pi^y (1-\\pi)^{1-y} (det(\\Sigma))^{-1/2} exp(-\\frac{y}{2}(x-\\mu_1)^T \\Sigma^{-1} (x-\\mu_1) - \\frac{1-y}{2}(x - \\mu_0)^T \\Sigma^{-1}(x-\\mu_0)) $$\n",
    "\n",
    "$$ p(y|x) \\propto \\pi^y (1-\\pi)^{1-y} (det(\\Sigma))^{-1/2} \\ exp\\big(y x^T \\Sigma^{-1} (\\mu_1 - \\mu_0) + \\frac{y}{2}(\\mu_0^T \\Sigma^{-1}\\mu_0 - \\mu_1^T \\Sigma^{-1}\\mu_1) -\\frac{1}{2}(x - \\mu_0)^T \\Sigma^{-1}(x-\\mu_0)\\big) $$\n",
    "\n",
    "Donc, pour n observations $(X_i, Y_i)$ iid, on a :\n",
    "\n",
    "$$ log\\big(p(y|x)\\big) = log(\\pi)\\sum_i y_i + log(1-\\pi)\\sum_i(1- y_i) -\\frac{1}{2}det(\\Sigma) + \\sum_i y_i x_i^T\\Sigma^{-1}(\\mu_1 - \\mu_0) + (\\mu_0^T \\Sigma^{-1}\\mu_0 - \\mu_1^T \\Sigma^{-1}\\mu_1)\\sum_i \\frac{y_i}{2} \\\\ -\\frac{1}{2}\\sum_i (x_i - \\mu_0)^T \\Sigma^{-1}(x_i-\\mu_0) + Cste  $$\n",
    "\n",
    "donc \n",
    "$$\n",
    "\\nabla_{\\mu_0}\\Big(log\\big(p(y|x)\\big)\\Big) = - \\sum_i y_i x_i^T \\Sigma^{-1} + 2 \\mu_0^T \\Sigma^{-1} \\sum_i \\frac{y_i}{2} + \\sum_i (x_i-\\mu_0)^T \\Sigma^{-1} = 0 \n",
    "$$\n",
    "\n",
    "$$ \\Leftrightarrow  \\mu_0^T  \\sum_i y_i + \\sum_i x_i^T - \\mu_0^T \\sum_i 1  = \\sum_i y_i x_i^T $$\n",
    "\n",
    "$$ \\Leftrightarrow  \\mu_0^T  \\sum_i (1-y_i) = \\sum_i x_i^T(1-y_i)  $$\n",
    "$$ \\Leftrightarrow  \\hat{\\mu}_0 = \\frac{\\sum_i x_i^T(1-y_i)}{\\sum_i (1-y_i)}  $$\n",
    "donc l'estimateur du maximum de vraisemblance pour $\\mu_0$ est la moyenne empirique des $x_i$ pour les observations où $y_i = 0$\n",
    "\n",
    "et\n",
    "\n",
    "\n",
    "$$\\nabla_{\\mu_1}\\Big(log\\big(p(y|x)\\big)\\Big) = \\sum_i y_i x_i^T \\Sigma^{-1} - 2 \\mu_1^T \\Sigma^{-1} \\sum_i \\frac{y_i}{2}  = 0 $$\n",
    "$$ \\Leftrightarrow \\sum_i y_i x_i = \\mu_1 \\sum_i y_i $$\n",
    "$$ \\Leftrightarrow  \\hat{\\mu}_1  = \\frac{\\sum_i y_i x_i}{\\sum_i y_i} $$\n",
    "donc l'estimateur du maximum de vraisemblance pour  $\\mu_1$  est la moyenne empirique des $x_i$ pour les observations où $y_i=1$\n",
    "\n",
    "$$\\nabla_\\pi \\Big(log\\big(p(y|x)\\big)\\Big) = \\frac{\\sum_i y_i}{\\pi} - \\frac{\\sum_i (1-y_i)}{1-\\pi} = 0$$\n",
    "$$\\Leftrightarrow \\hat{\\pi} = \\frac{\\sum_i y_i}{n}  $$\n",
    "donc l'estimateur du maximum de vraisemblance de $\\pi$ est la moyenne empirique des $y_i$\n",
    "\n"
   ]
  },
  {
   "cell_type": "code",
   "execution_count": 2,
   "metadata": {},
   "outputs": [],
   "source": [
    "modelsName = ['A', 'B', 'C']\n",
    "d_types = ['train', 'test']\n",
    "data = dict()\n",
    "for model in modelsName:\n",
    "    for d_type in d_types:\n",
    "        path = dir_path +\"/\"+\"classification_data_HWK1/classification\" +model +'.' + d_type \n",
    "        data[model+'_'+d_type] = pd.read_csv(path, sep='\\t', header=None).values"
   ]
  },
  {
   "cell_type": "markdown",
   "metadata": {},
   "source": [
    "### 2) Logistic Regression\n",
    "\n",
    "f is of the form $ f(x) = w^TX + b . \\ $ <br>\n",
    "We can augment X with a row of 1 to remove b of the Equation. <br>\n",
    "f thus become $ f(x) = w^T\\tilde{X} $ <br>\n",
    "with $\\tilde{X} = (X, 1)$\n",
    "\n",
    "We will need to solve the Modified normal equations using the Newton's method described in the class material\n",
    "\n",
    "\n",
    "Then if we want to plot $ p(y = 1|x) = 0.5 $ we need to solve the equation $$  \\frac{\\mathrm{1} }{\\mathrm{1} + e^-f(x) } = 0.5  $$ which is equivalent to solving $ f(x) = 0 $ \n",
    "\n",
    "We thus need to represent the line of equation $ x_2 = \\frac{- b - w_1*x_1}{w_2} $\n"
   ]
  },
  {
   "cell_type": "code",
   "execution_count": 399,
   "metadata": {},
   "outputs": [],
   "source": [
    "dd = dict()\n",
    "dd['A']\n",
    "w_0 = [[0.55104375], [0.24621418], [0.64676046]]"
   ]
  },
  {
   "cell_type": "code",
   "execution_count": 444,
   "metadata": {},
   "outputs": [],
   "source": [
    "\n",
    "def IRLS(modelName, i):\n",
    "    Y = data[modelName +'_train'][:, 2:3]\n",
    "    X = np.copy(data[modelName + '_train'][:, 0:3])\n",
    "    # we replaced the third row by the augmented row\n",
    "    X[:, 2] = 1\n",
    "    X_t = np.transpose(X)\n",
    "    w_0= np.random.rand(3, 1)\n",
    "    w_0init= w_0\n",
    "    \n",
    "    eta_0 = np.transpose(sigma(np.dot(np.transpose(w_0), X_t)))\n",
    "    etaa = eta_0*(1-eta_0)\n",
    "    \n",
    "    D_0 = np.diag(etaa[:, 0])\n",
    "    for t in range(1000):\n",
    "        if t + 1 % 200 == 0 :\n",
    "            print(t)\n",
    "        Y_tilde = Y - eta_0\n",
    "        \n",
    "        inv = np.linalg.inv(np.dot(np.dot(X_t, D_0), X))\n",
    "        first = np.dot(inv, X_t)\n",
    "        second = np.dot(first, Y_tilde)\n",
    "        w_0 = w_0 + second\n",
    "\n",
    "        eta_0 = np.transpose(sigma(np.dot(np.transpose(w_0), X_t)))\n",
    "        etaa = eta_0*(1-eta_0)\n",
    "        D_0 = np.diag(etaa[:,0])\n",
    "\n",
    "#     print(w_0)\n",
    "#     print(w_0init)\n",
    "    return w_0\n"
   ]
  },
  {
   "cell_type": "code",
   "execution_count": 468,
   "metadata": {},
   "outputs": [],
   "source": [
    "def LogReg_proba_lim(x1,w1,w2,b):\n",
    "    return -1/w2 * (w1 * x1 + b)\n",
    "\n",
    "def plotLogRegForModel(modelName, w0): \n",
    "    fig, ax = plt.subplots()\n",
    "    x0_0 = data[modelName+ '_train'][:, 0:1][data[modelName+ '_train'][:, 2]==0]\n",
    "    x1_0 = data[modelName+ '_train'][:, 1:2][data[modelName+ '_train'][:, 2]==0]\n",
    "    x0_1 = data[modelName+ '_train'][:, 0:1][data[modelName+ '_train'][:, 2]==1]\n",
    "    x1_1 = data[modelName+ '_train'][:, 1:2][data[modelName+ '_train'][:, 2]==1]\n",
    "    ax.scatter(x0_0, x1_0, color=\"green\")\n",
    "    ax.scatter(x0_1, x1_1, color=\"red\")\n",
    "    title = \"Data plot for Model \"+modelName\n",
    "    plt.plot(range(-10, 10), [LogReg_proba_lim(i,w0[0],w0[1],w0[2]) for i in range(-10, 10)], color='yellow')\n",
    "    plt.title(title)\n",
    "    plt.xlabel('x0')\n",
    "    plt.ylabel('x1')"
   ]
  },
  {
   "cell_type": "code",
   "execution_count": 470,
   "metadata": {},
   "outputs": [
    {
     "name": "stdout",
     "output_type": "stream",
     "text": [
      "[[-5530.79672714]\n",
      " [-9722.59513895]\n",
      " [-1003.86238682]]\n"
     ]
    },
    {
     "data": {
      "image/png": "[encoded data removed]",
      "text/plain": [
       "<Figure size 432x288 with 1 Axes>"
      ]
     },
     "metadata": {
      "needs_background": "light"
     },
     "output_type": "display_data"
    }
   ],
   "source": [
    "for i in range (100):\n",
    "    try:\n",
    "        w0 = IRLS('A', i)\n",
    "        print(w0)\n",
    "        plotLogRegForModel('A', w0)\n",
    "    except:\n",
    "        pass"
   ]
  },
  {
   "cell_type": "code",
   "execution_count": 457,
   "metadata": {},
   "outputs": [],
   "source": [
    "def LogReg_proba_lim(x1,w1,w2,b):\n",
    "    return -1/w2 * (w1 * x1 + b)\n",
    "\n",
    "def plotLogRegForModel(modelName, w0): \n",
    "    fig, ax = plt.subplots()\n",
    "    x0_0 = data[modelName+ '_train'][:, 0:1][data[modelName+ '_train'][:, 2]==0]\n",
    "    x1_0 = data[modelName+ '_train'][:, 1:2][data[modelName+ '_train'][:, 2]==0]\n",
    "    x0_1 = data[modelName+ '_train'][:, 0:1][data[modelName+ '_train'][:, 2]==1]\n",
    "    x1_1 = data[modelName+ '_train'][:, 1:2][data[modelName+ '_train'][:, 2]==1]\n",
    "    ax.scatter(x0_0, x1_0, color=\"green\")\n",
    "    ax.scatter(x0_1, x1_1, color=\"red\")\n",
    "    title = \"Data plot for Model \"+modelName\n",
    "    plt.plot(range(-10, 10), [LogReg_proba_lim(i,w0[0],w0[1],w0[2]) for i in range(-10, 10)], color='green')\n",
    "    plt.title(title)\n",
    "    plt.xlabel('x0')\n",
    "    plt.ylabel('x1')"
   ]
  },
  {
   "cell_type": "markdown",
   "metadata": {},
   "source": [
    "### 3) Linear Regression\n",
    "\n",
    "f is of the form $ f(x) = w^TX + b . \\ $ <br>\n",
    "We can augment X with a row of 1 to remove b of the Equation. <br>\n",
    "f thus become $ f(x) = w^T\\tilde{X} $ <br>\n",
    "with $\\tilde{X} = (X, 1)$\n",
    "\n",
    "We need to solve the normal equation which is : $$ \\tilde{X}^T\\tilde{X}w-\\tilde{X}^Ty=0 $$"
   ]
  },
  {
   "cell_type": "code",
   "execution_count": 82,
   "metadata": {},
   "outputs": [],
   "source": [
    "def solveNormalEquation(modelName):\n",
    "    Y = data[modelName +'_train'][:, 2:3]\n",
    "    X = np.copy(data[modelName + '_train'][:, 0:3])\n",
    "    # we replaced the third row by the augmented row\n",
    "    X[:, 2] = 1\n",
    "    \n",
    "    rank = np.linalg.matrix_rank(X)\n",
    "    if rank != 3:\n",
    "        print(\"XtX isn't invertible\")\n",
    "    X_t = np.transpose(X)\n",
    "    beta = np.dot(np.linalg.inv(np.dot(X_t, X)), np.dot(X_t, Y))\n",
    "    return beta[0][0], beta[1][0], beta[2][0]\n",
    "    "
   ]
  },
  {
   "cell_type": "code",
   "execution_count": 86,
   "metadata": {},
   "outputs": [
    {
     "name": "stdout",
     "output_type": "stream",
     "text": [
      "For model A learnt parameters are :\n",
      "\tw = [-0.264,-0.373]\n",
      "\tb = 0.492\n",
      "\n",
      "For model B learnt parameters are :\n",
      "\tw = [-0.104,0.052]\n",
      "\tb = 0.500\n",
      "\n",
      "For model C learnt parameters are :\n",
      "\tw = [-0.128,-0.017]\n",
      "\tb = 0.508\n",
      "\n"
     ]
    }
   ],
   "source": [
    "for name in modelsName:\n",
    "    omega0, omega1, b = solveNormalEquation(name)\n",
    "    print('For model {0} learnt parameters are :\\n\\tw = [{1:.3f},{2:.3f}]\\n\\tb = {3:.3f}\\n'.format(name,\n",
    "                                                                                                omega0,\n",
    "                                                                                                omega1,\n",
    "                                                                                                b))"
   ]
  },
  {
   "cell_type": "code",
   "execution_count": 102,
   "metadata": {},
   "outputs": [],
   "source": [
    "def plotForModel(modelName): \n",
    "    fig, ax = plt.subplots()\n",
    "    x0_0 = data[modelName+ '_train'][:, 0:1][data[modelName+ '_train'][:, 2]==0]\n",
    "    x1_0 = data[modelName+ '_train'][:, 1:2][data[modelName+ '_train'][:, 2]==0]\n",
    "    x0_1 = data[modelName+ '_train'][:, 0:1][data[modelName+ '_train'][:, 2]==1]\n",
    "    x1_1 = data[modelName+ '_train'][:, 1:2][data[modelName+ '_train'][:, 2]==1]\n",
    "    ax.scatter(x0_0, x1_0, color=\"green\")\n",
    "    ax.scatter(x0_1, x1_1, color=\"red\")\n",
    "    title = \"Data plot for Model \"+modelName\n",
    "    plt.title(title)\n",
    "    plt.xlabel('x0')\n",
    "    plt.ylabel('x1')"
   ]
  },
  {
   "cell_type": "code",
   "execution_count": 103,
   "metadata": {},
   "outputs": [
    {
     "data": {
      "image/png": "[encoded data removed]",
      "text/plain": [
       "<Figure size 432x288 with 1 Axes>"
      ]
     },
     "metadata": {
      "needs_background": "light"
     },
     "output_type": "display_data"
    },
    {
     "data": {
      "image/png": "[encoded data removed]",
      "text/plain": [
       "<Figure size 432x288 with 1 Axes>"
      ]
     },
     "metadata": {
      "needs_background": "light"
     },
     "output_type": "display_data"
    },
    {
     "data": {
      "image/png": "[encoded data removed]",
      "text/plain": [
       "<Figure size 432x288 with 1 Axes>"
      ]
     },
     "metadata": {
      "needs_background": "light"
     },
     "output_type": "display_data"
    }
   ],
   "source": [
    "for name in modelsName:\n",
    "    plotForModel(name)\n",
    "   "
   ]
  },
  {
   "cell_type": "code",
   "execution_count": null,
   "metadata": {},
   "outputs": [],
   "source": []
  },
  {
   "cell_type": "code",
   "execution_count": null,
   "metadata": {},
   "outputs": [],
   "source": []
  }
 ],
 "metadata": {
  "kernelspec": {
   "display_name": "Python 3",
   "language": "python",
   "name": "python3"
  },
  "language_info": {
   "codemirror_mode": {
    "name": "ipython",
    "version": 3
   },
   "file_extension": ".py",
   "mimetype": "text/x-python",
   "name": "python",
   "nbconvert_exporter": "python",
   "pygments_lexer": "ipython3",
   "version": "3.7.0"
  }
 },
 "nbformat": 4,
 "nbformat_minor": 2
}
