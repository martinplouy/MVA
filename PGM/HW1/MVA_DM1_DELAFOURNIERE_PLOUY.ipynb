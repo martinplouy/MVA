{
 "cells": [
  {
   "cell_type": "code",
   "execution_count": 10,
   "metadata": {},
   "outputs": [],
   "source": [
    "import pandas as pd\n",
    "import matplotlib.pyplot as plt\n",
    "from sklearn.linear_model import LogisticRegression\n",
    "import os\n",
    "dir_path = os.getcwd()\n"
   ]
  },
  {
   "cell_type": "code",
   "execution_count": 11,
   "metadata": {},
   "outputs": [],
   "source": [
    "models = ['A', 'B', 'C']\n",
    "d_types = ['train', 'test']\n",
    "data = dict()\n",
    "for model in models:\n",
    "    for d_type in d_types:\n",
    "        path = dir_path +\"/\"+\"classification_data_HWK1/classification\" +model +'.' + d_type \n",
    "        data[model+'_'+d_type] = pd.read_csv(path, sep='\\t', header=None).values"
   ]
  },
  {
   "cell_type": "code",
   "execution_count": 12,
   "metadata": {},
   "outputs": [
    {
     "data": {
      "text/plain": [
       "array([[-3.60340505,  1.3266    ],\n",
       "       [-4.2190114 ,  2.015     ],\n",
       "       [-1.51565812,  0.5059    ],\n",
       "       [-1.16975695,  0.3815    ],\n",
       "       [ 0.52274116, -0.6572    ],\n",
       "       [-0.14174035, -0.7083    ],\n",
       "       [-3.2644966 ,  1.312     ],\n",
       "       [-1.7093627 ,  0.2236    ],\n",
       "       [-2.06451872,  0.6392    ],\n",
       "       [-2.7745778 ,  1.139     ],\n",
       "       [-4.4637327 ,  1.2861    ],\n",
       "       [-2.05557939,  0.716     ],\n",
       "       [-4.93081485,  1.9442    ],\n",
       "       [-2.78573378,  0.8165    ],\n",
       "       [-3.78492412,  1.0945    ],\n",
       "       [-0.023503  , -0.1801    ],\n",
       "       [-4.0787268 ,  1.6789    ],\n",
       "       [-4.88879174,  2.2006    ],\n",
       "       [-4.11260798,  1.3405    ],\n",
       "       [-5.11303227,  1.578     ],\n",
       "       [-2.76271871,  0.6868    ],\n",
       "       [-7.08295715,  3.1183    ],\n",
       "       [-2.10955767,  0.7613    ],\n",
       "       [-0.77900674, -0.1129    ],\n",
       "       [-4.72843487,  1.5547    ],\n",
       "       [-2.63444768,  0.8987    ],\n",
       "       [-4.5475173 ,  1.6635    ],\n",
       "       [-2.20077236,  0.4904    ],\n",
       "       [-2.53362889,  0.4018    ],\n",
       "       [-2.63673813,  0.9063    ],\n",
       "       [-2.66488019,  0.7417    ],\n",
       "       [-2.08956994,  0.4145    ],\n",
       "       [-4.54210178,  1.6676    ],\n",
       "       [-1.78028339,  0.0851    ],\n",
       "       [-3.30707316,  1.0544    ],\n",
       "       [-1.70271717,  0.6797    ],\n",
       "       [-4.69756633,  2.1936    ],\n",
       "       [-2.1893323 ,  0.9872    ],\n",
       "       [ 1.52205509, -1.2153    ],\n",
       "       [-3.19392599,  1.7079    ],\n",
       "       [-3.73923612,  1.6258    ],\n",
       "       [-5.22921695,  2.0944    ],\n",
       "       [-1.74594092,  0.5632    ],\n",
       "       [-1.13305977,  0.5375    ],\n",
       "       [-1.35717962,  0.0122    ],\n",
       "       [-1.90954053,  0.3552    ],\n",
       "       [-1.36584172, -0.1232    ],\n",
       "       [-2.58568625,  0.6732    ],\n",
       "       [-0.95849634,  0.2517    ],\n",
       "       [-1.75339608, -0.0257    ],\n",
       "       [-0.49466248,  0.2917    ],\n",
       "       [ 2.64404816, -0.6051    ],\n",
       "       [ 4.58705059, -1.3574    ],\n",
       "       [ 0.93246818, -0.0716    ],\n",
       "       [ 2.00990441,  0.1615    ],\n",
       "       [ 5.3627509 , -2.088     ],\n",
       "       [ 4.82777741, -2.056     ],\n",
       "       [ 0.79408426, -0.1536    ],\n",
       "       [ 4.66895645, -2.0269    ],\n",
       "       [ 1.62226252,  0.0136    ],\n",
       "       [ 2.06034325, -0.4617    ],\n",
       "       [ 1.91580753, -0.592     ],\n",
       "       [ 3.34321939, -0.5258    ],\n",
       "       [ 2.28445893, -0.7212    ],\n",
       "       [ 2.15604801, -0.5768    ],\n",
       "       [ 4.69203056, -1.3454    ],\n",
       "       [ 2.33369353, -0.7607    ],\n",
       "       [ 2.53262502, -0.5506    ],\n",
       "       [ 3.74682318, -1.3934    ],\n",
       "       [ 4.79785459, -2.0193    ],\n",
       "       [ 5.21479812, -1.6969    ],\n",
       "       [-0.77746937,  1.7518    ],\n",
       "       [ 0.91676783, -0.0744    ],\n",
       "       [ 4.06332457, -1.6367    ],\n",
       "       [ 0.42563344, -0.0316    ],\n",
       "       [ 1.30859855, -0.1841    ],\n",
       "       [ 1.14795248, -0.2477    ],\n",
       "       [ 3.72785228, -0.778     ],\n",
       "       [ 4.82364891, -1.8727    ],\n",
       "       [ 4.3746601 , -1.4216    ],\n",
       "       [ 5.39357103, -2.0546    ],\n",
       "       [ 3.14392011, -0.9467    ],\n",
       "       [ 4.38974026, -1.1297    ],\n",
       "       [ 3.25243434, -1.2881    ],\n",
       "       [ 4.02394103, -1.4589    ],\n",
       "       [ 2.13937422, -0.8027    ],\n",
       "       [ 4.98492716, -1.975     ],\n",
       "       [ 4.84786861, -2.127     ],\n",
       "       [ 2.41578229, -0.8449    ],\n",
       "       [ 3.04945342, -0.9495    ],\n",
       "       [ 4.33222688, -1.7554    ],\n",
       "       [ 3.69880022, -1.667     ],\n",
       "       [ 2.52940268, -1.0949    ],\n",
       "       [ 1.59869599, -0.5629    ],\n",
       "       [ 5.21356024, -1.936     ],\n",
       "       [ 5.77669089, -2.1027    ],\n",
       "       [ 1.23015787, -0.1084    ],\n",
       "       [ 1.14245302, -0.4852    ],\n",
       "       [ 2.03246051, -0.423     ],\n",
       "       [ 2.36240489, -0.8845    ],\n",
       "       [ 3.06452148, -0.5789    ],\n",
       "       [ 3.54037769, -1.1844    ],\n",
       "       [ 4.51072682, -2.3282    ],\n",
       "       [ 2.49403125, -0.4063    ],\n",
       "       [ 1.08439222,  0.0125    ],\n",
       "       [ 3.78398859, -1.4122    ],\n",
       "       [ 4.5268186 , -1.6892    ],\n",
       "       [ 2.9524972 , -0.3908    ],\n",
       "       [ 4.87313473, -1.3683    ],\n",
       "       [ 3.74272281, -1.3307    ],\n",
       "       [ 2.71195927, -0.3776    ],\n",
       "       [ 2.14736607, -0.4164    ],\n",
       "       [ 2.36051975, -0.6378    ],\n",
       "       [ 1.21060035, -0.3404    ],\n",
       "       [ 6.28028268, -2.4457    ],\n",
       "       [ 3.79782912, -1.8031    ],\n",
       "       [ 2.03703845, -0.4306    ],\n",
       "       [ 1.77725887, -0.4362    ],\n",
       "       [ 4.57173467, -1.9038    ],\n",
       "       [ 2.85645207, -0.8431    ],\n",
       "       [ 4.30635604, -1.4683    ],\n",
       "       [ 5.6989441 , -2.035     ],\n",
       "       [ 2.82855285, -1.4096    ],\n",
       "       [ 1.92545526,  0.1604    ],\n",
       "       [ 2.71121126, -0.6378    ],\n",
       "       [ 1.85490107, -0.5717    ],\n",
       "       [ 2.15728035, -0.8413    ],\n",
       "       [-1.85544183,  0.9963    ],\n",
       "       [ 3.39886598, -0.605     ],\n",
       "       [ 1.65901471, -0.7629    ],\n",
       "       [ 1.93532047, -0.3816    ],\n",
       "       [ 2.41405955, -0.3573    ],\n",
       "       [ 2.9640425 , -0.638     ],\n",
       "       [ 2.74492776, -0.5656    ],\n",
       "       [ 2.11997084, -0.28      ],\n",
       "       [ 2.63817235, -1.1269    ],\n",
       "       [ 3.02099027, -1.1014    ],\n",
       "       [ 2.47989491, -0.2157    ],\n",
       "       [ 3.73587307, -1.3273    ],\n",
       "       [ 2.25557758,  0.0725    ],\n",
       "       [ 2.47894222, -1.2834    ],\n",
       "       [ 1.74887291, -0.151     ],\n",
       "       [ 0.13507865,  0.0633    ],\n",
       "       [ 2.9252534 , -1.0312    ],\n",
       "       [ 2.12581139, -0.3001    ],\n",
       "       [ 3.00153692, -1.8059    ],\n",
       "       [ 1.47815363, -0.6216    ],\n",
       "       [ 5.35937145, -1.9221    ],\n",
       "       [ 4.05170563, -1.2495    ],\n",
       "       [ 1.74682157, -0.0508    ]])"
      ]
     },
     "execution_count": 12,
     "metadata": {},
     "output_type": "execute_result"
    }
   ],
   "source": [
    "data['A_train'][:, 0:2]"
   ]
  },
  {
   "cell_type": "code",
   "execution_count": 18,
   "metadata": {},
   "outputs": [],
   "source": [
    "X_A_train = data['A_train'][:, 0:2]\n",
    "Y_A_train = data['A_train'][:, 2:3]"
   ]
  },
  {
   "cell_type": "code",
   "execution_count": 15,
   "metadata": {},
   "outputs": [
    {
     "data": {
      "text/plain": [
       "<matplotlib.collections.PathCollection at 0x11c0a99b0>"
      ]
     },
     "execution_count": 15,
     "metadata": {},
     "output_type": "execute_result"
    },
    {
     "data": {
      "image/png": "[encoded data removed]",
      "text/plain": [
       "<Figure size 432x288 with 1 Axes>"
      ]
     },
     "metadata": {
      "needs_background": "light"
     },
     "output_type": "display_data"
    }
   ],
   "source": [
    "fig, ax = plt.subplots()\n",
    "ax.scatter(data['A_train'][:, 0:1], data['A_train'][:, 1:2])"
   ]
  },
  {
   "cell_type": "code",
   "execution_count": null,
   "metadata": {},
   "outputs": [],
   "source": []
  },
  {
   "cell_type": "markdown",
   "metadata": {},
   "source": [
    "3) Linear Regression\n",
    "\n",
    "f is of the form f(x) = wx+b . "
   ]
  }
 ],
 "metadata": {
  "kernelspec": {
   "display_name": "Python 3",
   "language": "python",
   "name": "python3"
  },
  "language_info": {
   "codemirror_mode": {
    "name": "ipython",
    "version": 3
   },
   "file_extension": ".py",
   "mimetype": "text/x-python",
   "name": "python",
   "nbconvert_exporter": "python",
   "pygments_lexer": "ipython3",
   "version": "3.6.4"
  }
 },
 "nbformat": 4,
 "nbformat_minor": 2
}
